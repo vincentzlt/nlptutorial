{
 "cells": [
  {
   "cell_type": "code",
   "execution_count": 2,
   "metadata": {
    "collapsed": true
   },
   "outputs": [],
   "source": [
    "from IPython.core.interactiveshell import InteractiveShell\n",
    "InteractiveShell.ast_node_interactivity = \"all\""
   ]
  },
  {
   "cell_type": "code",
   "execution_count": 3,
   "metadata": {
    "collapsed": true
   },
   "outputs": [],
   "source": [
    "def countif(w_list, corpus_list):\n",
    "    sum=0\n",
    "    for line in corpus_list:\n",
    "        for i in range(len(line)-len(w_list)):\n",
    "            #print(line[i:i+len(w_list)])\n",
    "            if w_list== line[i:i+len(w_list)]:\n",
    "                sum+=1\n",
    "    return sum\n",
    "            "
   ]
  },
  {
   "cell_type": "code",
   "execution_count": 4,
   "metadata": {},
   "outputs": [
    {
     "name": "stdout",
     "output_type": "stream",
     "text": [
      "CPU times: user 13 µs, sys: 1 µs, total: 14 µs\n",
      "Wall time: 16 µs\n"
     ]
    }
   ],
   "source": [
    "%%time\n",
    "w_list=\"a b c\".split()\n",
    "w_list\n",
    "corpus_list=[\"a b c a b c a b c d e f\".split()]\n",
    "corpus_list\n",
    "countif(w_list,corpus_list)"
   ]
  },
  {
   "cell_type": "code",
   "execution_count": 5,
   "metadata": {
    "collapsed": true
   },
   "outputs": [],
   "source": [
    "def count_type_after_w_minus_1(w_list, corpus_list):\n",
    "    after_w_list = []\n",
    "    for line in corpus_list:\n",
    "        for i in range(len(line) - len(w_list)):\n",
    "            print(line[i:i + len(w_list)])\n",
    "            if w_list == line[i:i + len(w_list)]:\n",
    "                print(line[i + len(w_list)])\n",
    "                after_w_list.append(line[i + len(w_list)])\n",
    "    return len(set(after_w_list))"
   ]
  },
  {
   "cell_type": "code",
   "execution_count": 6,
   "metadata": {},
   "outputs": [
    {
     "name": "stdout",
     "output_type": "stream",
     "text": [
      "['a', 'b']\n",
      "c\n",
      "['b', 'c']\n",
      "['c', 'a']\n",
      "['a', 'b']\n",
      "c\n",
      "['b', 'c']\n",
      "['c', 'a']\n",
      "['a', 'b']\n",
      "c\n",
      "['b', 'c']\n",
      "['c', 'd']\n",
      "['d', 'e']\n",
      "CPU times: user 384 µs, sys: 127 µs, total: 511 µs\n",
      "Wall time: 562 µs\n"
     ]
    }
   ],
   "source": [
    "%%time\n",
    "w_list=\"a b\".split()\n",
    "w_list\n",
    "corpus_list=[\"a b c a b c a b c d e f\".split()]\n",
    "corpus_list\n",
    "count_type_after_w_minus_1(w_list,corpus_list)"
   ]
  },
  {
   "cell_type": "code",
   "execution_count": 7,
   "metadata": {
    "collapsed": true
   },
   "outputs": [],
   "source": [
    "def calc_lambda(w_minus_1_list,corpus_list):\n",
    "    if w_minus_1_list in set([i for i in j for j in corpus_list]):\n",
    "        num_type_after_w_minus_1 = count_type_after_w_minus_1(\n",
    "            w_minus_1_list, corpus_list)\n",
    "\n",
    "        lambda_w_minus_1 = 1 - (num_type_after_w_minus_1) / (\n",
    "            float(num_w_list_minus_1) + float(num_type_after_w_minus_1))\n",
    "    else:\n",
    "        lambda_w_minus_1=0.05/1000000\n",
    "    \n",
    "    return lambda_w_minus_1\n"
   ]
  },
  {
   "cell_type": "code",
   "execution_count": 12,
   "metadata": {
    "code_folding": []
   },
   "outputs": [
    {
     "ename": "SyntaxError",
     "evalue": "invalid syntax (<ipython-input-12-a33e6b61411b>, line 18)",
     "output_type": "error",
     "traceback": [
      "\u001b[0;36m  File \u001b[0;32m\"<ipython-input-12-a33e6b61411b>\"\u001b[0;36m, line \u001b[0;32m18\u001b[0m\n\u001b[0;31m    if num_w_list:\u001b[0m\n\u001b[0m                 ^\u001b[0m\n\u001b[0;31mSyntaxError\u001b[0m\u001b[0;31m:\u001b[0m invalid syntax\n"
     ]
    }
   ],
   "source": [
    "def calc_n_gram_word_P(w_list, corpus_list):\n",
    "    # determine n in n_gram\n",
    "    n = len(w_list)\n",
    "\n",
    "    # count the occurence of w_list in corpus\n",
    "    num_w_list = countif(w_list, corpus_list)\n",
    "\n",
    "    # generate the w_list_minus_1\n",
    "    w_list_minus_1 = w_list[:-1]\n",
    "\n",
    "    # count the orrurence of w_list_minus_1\n",
    "    num_w_list_minus_1 = countif(w_list_minus_1, corpus_list)\n",
    "\n",
    "    # generate lambda_w_minus_1 in context dependent smoothing\n",
    "    if n==1:\n",
    "        P_n_gram=0.01*\n",
    "    elif num_w_list_minus_1:\n",
    "        lambda_ = calc_lambda(w_list_minus_1, corpus_list)\n",
    "\n",
    "        P_n_gram = lambda_w_minus_1 * num_w_list / num_w_list_minus_1 + (\n",
    "            1 - lambda_w_minus_1) * calc_n_gram_word_P(w_list_minus_1,\n",
    "                                                       corpus_list)\n",
    "\n",
    "    else:\n",
    "        P_n_gram = 0.05 / float(1000000)"
   ]
  },
  {
   "cell_type": "code",
   "execution_count": null,
   "metadata": {
    "collapsed": true
   },
   "outputs": [],
   "source": [
    "def calc_uni_gram(uni_gram, corpus_list):\n",
    "    vocab_size = 1000000\n",
    "    lambda_unigram = 0.05\n",
    "    uni_gram_P = lambda_unigram * countif(uni_gram, corpus_list) / float(\n",
    "        len([i for i in j\n",
    "             for j in corpus_list])) + (1 - lambda_unigram) / float(vocab_size)\n",
    "    return uni_gram_P"
   ]
  },
  {
   "cell_type": "code",
   "execution_count": null,
   "metadata": {
    "collapsed": true
   },
   "outputs": [],
   "source": [
    "def calc_2_gram(bi_gram_list, corpus_list):\n",
    "    # determine n in n_gram\n",
    "    n = len(bi_gram_list)\n",
    "    if n > 2:\n",
    "        print(\"not 2-gram.\")\n",
    "        return\n",
    "\n",
    "    # count the occurence of w_list in corpus\n",
    "    num_bi_gram_list = countif(w_list, corpus_list)\n",
    "\n",
    "    # generate the w_list_minus_1\n",
    "    w_list_minus_1 = bi_gram_list[:-1]\n",
    "\n",
    "    # count the orrurence of w_list_minus_1\n",
    "    num_w_list_minus_1 = countif(w_list_minus_1, corpus_list)\n",
    "\n",
    "    # generate lambda\n",
    "\n",
    "    lambda_w_minus_1 = calc_lambda(w_list_minus_1, corpus_list)\n",
    "\n",
    "    # calc 2 gram P\n",
    "    bi_gram_P = (\n",
    "        lambda_w_minus_1 * float(num_bi_gram_list) / float(num_w_list_minus_1)\n",
    "    ) + ((1 - lambda_w_minus_1) * calc_uni_gram(w_list_minus_1, corpus_list))\n",
    "    \n",
    "    return bi_gram_P"
   ]
  }
 ],
 "metadata": {
  "kernelspec": {
   "display_name": "Python 3",
   "language": "python",
   "name": "python3"
  },
  "language_info": {
   "codemirror_mode": {
    "name": "ipython",
    "version": 3
   },
   "file_extension": ".py",
   "mimetype": "text/x-python",
   "name": "python",
   "nbconvert_exporter": "python",
   "pygments_lexer": "ipython3",
   "version": "3.5.0"
  }
 },
 "nbformat": 4,
 "nbformat_minor": 2
}
