{
 "cells": [
  {
   "cell_type": "code",
   "execution_count": 6,
   "metadata": {
    "collapsed": true
   },
   "outputs": [],
   "source": [
    "from IPython.core.interactiveshell import InteractiveShell\n",
    "InteractiveShell.ast_node_interactivity = \"all\""
   ]
  },
  {
   "cell_type": "code",
   "execution_count": 7,
   "metadata": {
    "collapsed": true
   },
   "outputs": [],
   "source": [
    "def countif(w_list, corpus_list):\n",
    "    sum=0\n",
    "    for line in corpus_list:\n",
    "        for i in range(len(line)-len(w_list)):\n",
    "            #print(line[i:i+len(w_list)])\n",
    "            if w_list== line[i:i+len(w_list)]:\n",
    "                sum+=1\n",
    "    return sum\n",
    "            "
   ]
  },
  {
   "cell_type": "code",
   "execution_count": 11,
   "metadata": {},
   "outputs": [
    {
     "name": "stdout",
     "output_type": "stream",
     "text": [
      "['a', 'b', 'c']\n",
      "['b', 'c', 'a']\n",
      "['c', 'a', 'b']\n",
      "['a', 'b', 'c']\n",
      "['b', 'c', 'a']\n",
      "['c', 'a', 'b']\n",
      "['a', 'b', 'c']\n",
      "['b', 'c', 'd']\n",
      "['c', 'd', 'e']\n",
      "CPU times: user 460 µs, sys: 172 µs, total: 632 µs\n",
      "Wall time: 650 µs\n"
     ]
    }
   ],
   "source": [
    "%%time\n",
    "w_list=\"a b c\".split()\n",
    "w_list\n",
    "corpus_list=[\"a b c a b c a b c d e f\".split()]\n",
    "corpus_list\n",
    "countif(w_list,corpus_list)"
   ]
  },
  {
   "cell_type": "code",
   "execution_count": 15,
   "metadata": {},
   "outputs": [],
   "source": [
    "def count_type_after_w_minus_1(w_list, corpus_list):\n",
    "    after_w_list = []\n",
    "    for line in corpus_list:\n",
    "        for i in range(len(line) - len(w_list)):\n",
    "            print(line[i:i + len(w_list)])\n",
    "            if w_list == line[i:i + len(w_list)]:\n",
    "                print(line[i + len(w_list)])\n",
    "                after_w_list.append(line[i + len(w_list)])\n",
    "    return len(set(after_w_list))"
   ]
  },
  {
   "cell_type": "code",
   "execution_count": 16,
   "metadata": {},
   "outputs": [
    {
     "name": "stdout",
     "output_type": "stream",
     "text": [
      "['a', 'b']\n",
      "c\n",
      "['b', 'c']\n",
      "['c', 'a']\n",
      "['a', 'b']\n",
      "c\n",
      "['b', 'c']\n",
      "['c', 'a']\n",
      "['a', 'b']\n",
      "c\n",
      "['b', 'c']\n",
      "['c', 'd']\n",
      "['d', 'e']\n",
      "CPU times: user 1.04 ms, sys: 799 µs, total: 1.84 ms\n",
      "Wall time: 1.23 ms\n"
     ]
    }
   ],
   "source": [
    "%%time\n",
    "w_list=\"a b\".split()\n",
    "w_list\n",
    "corpus_list=[\"a b c a b c a b c d e f\".split()]\n",
    "corpus_list\n",
    "count_type_after_w_minus_1(w_list,corpus_list)"
   ]
  },
  {
   "cell_type": "code",
   "execution_count": 17,
   "metadata": {
    "collapsed": true
   },
   "outputs": [],
   "source": [
    "def calc_lambda(w_minus_1_list,corpus_list):\n",
    "    \n",
    "    num_type_after_w_minus_1 = count_type_after_w_minus_1(\n",
    "        w_minus_1_list, corpus_list)\n",
    "    \n",
    "    lambda_w_minus_1 = 1 - (num_type_after_w_minus_1) / (\n",
    "        num_w_list_minus_1 + num_type_after_w_minus_1)\n",
    "    \n",
    "    return lambda_w_minus_1\n"
   ]
  },
  {
   "cell_type": "code",
   "execution_count": 12,
   "metadata": {
    "code_folding": []
   },
   "outputs": [
    {
     "ename": "SyntaxError",
     "evalue": "invalid syntax (<ipython-input-12-a33e6b61411b>, line 18)",
     "output_type": "error",
     "traceback": [
      "\u001b[0;36m  File \u001b[0;32m\"<ipython-input-12-a33e6b61411b>\"\u001b[0;36m, line \u001b[0;32m18\u001b[0m\n\u001b[0;31m    if num_w_list:\u001b[0m\n\u001b[0m                 ^\u001b[0m\n\u001b[0;31mSyntaxError\u001b[0m\u001b[0;31m:\u001b[0m invalid syntax\n"
     ]
    }
   ],
   "source": [
    "def calc_n_gram_word_P(w_list, corpus_list):\n",
    "    # determine n in n_gram\n",
    "    n = len(w_list)\n",
    "\n",
    "    # count the occurence of w_list in corpus\n",
    "    num_w_list = countif(w_list, corpus_list)\n",
    "\n",
    "    # generate the w_list_minus_1\n",
    "    w_list_minus_1 = w_list[:-1]\n",
    "\n",
    "    # count the orrurence of w_list_minus_1\n",
    "    num_w_list_minus_1 = countif(w_list_minus_1, corpus_list)\n",
    "\n",
    "    # generate lambda_w_minus_1 in context dependent smoothing\n",
    "    if num_w_list:\n",
    "        lambda_ = calc_lambda(w_list_minus_1, corpus_list)\n",
    "\n",
    "        P_n_gram = lambda_w_minus_1 * num_w_list / num_w_list_minus_1 + (\n",
    "            1 - lambda_w_minus_1) * calc_n_gram_word_P(w_list_minus_1)\n",
    "\n",
    "    elif num_w_list_minus_1:\n",
    "        lambda_ = calc_lambda(w_list_minus_1, corpus_list)\n",
    "\n",
    "        P_n_gram="
   ]
  }
 ],
 "metadata": {
  "kernelspec": {
   "display_name": "Python 3",
   "language": "python",
   "name": "python3"
  },
  "language_info": {
   "codemirror_mode": {
    "name": "ipython",
    "version": 3
   },
   "file_extension": ".py",
   "mimetype": "text/x-python",
   "name": "python",
   "nbconvert_exporter": "python",
   "pygments_lexer": "ipython3",
   "version": "3.5.0"
  }
 },
 "nbformat": 4,
 "nbformat_minor": 2
}
