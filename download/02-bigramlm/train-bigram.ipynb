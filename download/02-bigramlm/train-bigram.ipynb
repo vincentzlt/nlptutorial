{
 "cells": [
  {
   "cell_type": "code",
   "execution_count": 71,
   "metadata": {},
   "outputs": [],
   "source": [
    "import sys,math\n",
    "from collections import defaultdict\n"
   ]
  },
  {
   "cell_type": "code",
   "execution_count": 57,
   "metadata": {
    "collapsed": true
   },
   "outputs": [],
   "source": [
    "def countif(w_list, corpus_list):\n",
    "    sum=0\n",
    "    for line in corpus_list:\n",
    "        for i in range(len(line)-len(w_list)):\n",
    "            #print(line[i:i+len(w_list)])\n",
    "            if w_list== line[i:i+len(w_list)]:\n",
    "                sum+=1\n",
    "    return sum\n",
    "            "
   ]
  },
  {
   "cell_type": "code",
   "execution_count": 58,
   "metadata": {
    "collapsed": true
   },
   "outputs": [],
   "source": [
    "def count_type_after_w_minus_1(w_list, corpus_list):\n",
    "    after_w_list = []\n",
    "    for line in corpus_list:\n",
    "        for i in range(len(line) - len(w_list)):\n",
    "            print(line[i:i + len(w_list)])\n",
    "            if w_list == line[i:i + len(w_list)]:\n",
    "                print(line[i + len(w_list)])\n",
    "                after_w_list.append(line[i + len(w_list)])\n",
    "    return len(set(after_w_list))"
   ]
  },
  {
   "cell_type": "code",
   "execution_count": 59,
   "metadata": {
    "collapsed": true
   },
   "outputs": [],
   "source": [
    "def calc_lambda(w_minus_1_list,corpus_list):\n",
    "    if set(w_minus_1_list) in set([i for j in corpus_list for i in j ]):\n",
    "        num_type_after_w_minus_1 = count_type_after_w_minus_1(\n",
    "            w_minus_1_list, corpus_list)\n",
    "\n",
    "        lambda_w_minus_1 = 1 - (num_type_after_w_minus_1) / (\n",
    "            float(num_w_list_minus_1) + float(num_type_after_w_minus_1))\n",
    "    else:\n",
    "        lambda_w_minus_1=0.05/1000000\n",
    "    \n",
    "    return lambda_w_minus_1\n"
   ]
  },
  {
   "cell_type": "code",
   "execution_count": 60,
   "metadata": {
    "collapsed": true
   },
   "outputs": [],
   "source": [
    "def calc_uni_gram(uni_gram, corpus_list):\n",
    "    vocab_size = 1000000\n",
    "    lambda_unigram = 0.05\n",
    "    uni_gram_P = lambda_unigram * countif(uni_gram, corpus_list) / float(\n",
    "        len([i \n",
    "             for j in corpus_list for i in j])) + (1 - lambda_unigram) / float(vocab_size)\n",
    "    return uni_gram_P"
   ]
  },
  {
   "cell_type": "code",
   "execution_count": 61,
   "metadata": {
    "collapsed": true
   },
   "outputs": [],
   "source": [
    "def calc_2_gram(bi_gram_list, corpus_list):\n",
    "    # determine n in n_gram\n",
    "    n = len(bi_gram_list)\n",
    "    if n > 2:\n",
    "        print(\"not 2-gram.\")\n",
    "        return\n",
    "\n",
    "    # count the occurence of w_list in corpus\n",
    "    num_bi_gram_list = countif(bi_gram_list, corpus_list)\n",
    "\n",
    "    # generate the w_list_minus_1\n",
    "    w_list_minus_1 = bi_gram_list[:-1]\n",
    "\n",
    "    # count the orrurence of w_list_minus_1\n",
    "    num_w_list_minus_1 = countif(w_list_minus_1, corpus_list)\n",
    "\n",
    "    # generate lambda\n",
    "\n",
    "    lambda_w_minus_1 = calc_lambda(w_list_minus_1, corpus_list)\n",
    "\n",
    "    # calc 2 gram P\n",
    "    if num_w_list_minus_1:\n",
    "        bi_gram_P = (lambda_w_minus_1 * float(num_bi_gram_list) /\n",
    "                     float(num_w_list_minus_1)) + (\n",
    "                         (1 - lambda_w_minus_1) * calc_uni_gram(\n",
    "                             w_list_minus_1, corpus_list))\n",
    "    else:\n",
    "        bi_gram_P = (1 - lambda_w_minus_1) * calc_uni_gram(\n",
    "            w_list_minus_1, corpus_list)\n",
    "    return bi_gram_P"
   ]
  },
  {
   "cell_type": "code",
   "execution_count": 62,
   "metadata": {
    "collapsed": true
   },
   "outputs": [],
   "source": [
    "def gen_corpus_list(f_name):\n",
    "    with open(f_name,\"r\",encoding=\"UTF-8\") as f:\n",
    "        corpus_list=[i.split() for i in f.readlines()]\n",
    "    for line in corpus_list:\n",
    "        line.append(\"</s>\")\n",
    "        line.insert(0,\"<s>\")\n",
    "    return corpus_list"
   ]
  },
  {
   "cell_type": "code",
   "execution_count": 63,
   "metadata": {
    "collapsed": true
   },
   "outputs": [],
   "source": [
    "def gen_bi_gram_list(corpus_list):\n",
    "    bi_gram=defaultdict(lambda : 0)\n",
    "    for line in corpus_list:\n",
    "        for ww in list(zip(line[:-1],line[1:])):\n",
    "            bi_gram[\" \".join(ww)]+=1\n",
    "    return bi_gram\n",
    "            "
   ]
  },
  {
   "cell_type": "code",
   "execution_count": 73,
   "metadata": {},
   "outputs": [
    {
     "name": "stdout",
     "output_type": "stream",
     "text": [
      "d </s> \t -7.643582175889057\n",
      "a b \t -6.643711999618024\n",
      "b c \t -6.643715605999676\n",
      "b d \t -6.643715605999676\n",
      "c </s> \t -7.643582175889057\n",
      "<s> a \t -6.643711999618024\n"
     ]
    }
   ],
   "source": [
    "if __name__==\"__main__\":\n",
    "    sys.argv=\"self ../../test/02-train-input.txt\".split()\n",
    "    corpus_list=gen_corpus_list(sys.argv[1])\n",
    "    for i in gen_bi_gram_list(corpus_list):\n",
    "        print(i, \"\\t\",math.log2(calc_2_gram(i.split(),corpus_list)))"
   ]
  },
  {
   "cell_type": "code",
   "execution_count": null,
   "metadata": {
    "collapsed": true
   },
   "outputs": [],
   "source": []
  }
 ],
 "metadata": {
  "kernelspec": {
   "display_name": "Python 3",
   "language": "python",
   "name": "python3"
  },
  "language_info": {
   "codemirror_mode": {
    "name": "ipython",
    "version": 3
   },
   "file_extension": ".py",
   "mimetype": "text/x-python",
   "name": "python",
   "nbconvert_exporter": "python",
   "pygments_lexer": "ipython3",
   "version": "3.5.0"
  }
 },
 "nbformat": 4,
 "nbformat_minor": 2
}
