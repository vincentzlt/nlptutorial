{
 "cells": [
  {
   "cell_type": "code",
   "execution_count": 1,
   "metadata": {
    "collapsed": true
   },
   "outputs": [],
   "source": [
    "import numpy as np\n",
    "from pprint import pprint\n",
    "from time import time\n",
    "import pdir\n",
    "from IPython.core.debugger import Tracer"
   ]
  },
  {
   "cell_type": "code",
   "execution_count": 2,
   "metadata": {
    "collapsed": true
   },
   "outputs": [],
   "source": [
    "def gen_ids(f_names):\n",
    "    words=[]\n",
    "    labels=[]\n",
    "    for line in open(f_names,\"r\",encoding=\"utf-8\"):\n",
    "        label,sentence=line.split(\"\\t\")\n",
    "        labels.append(np.array([int(label)]))\n",
    "        for w in sentence.split():\n",
    "            words.append(w)\n",
    "    words=set(words)\n",
    "    w_ids={}\n",
    "    \n",
    "    for w in words:\n",
    "        w_ids[w]=len(w_ids)\n",
    "    sentences=[]\n",
    "    for line in open(f_names,\"r\",encoding=\"utf-8\"):\n",
    "        label,sentence=line.split(\"\\t\")\n",
    "        sent=np.zeros(len(w_ids))\n",
    "        for w in sentence.split():\n",
    "            sent[w_ids[w]]+=1\n",
    "        sentences.append(sent)\n",
    "    return w_ids,sentences,labels"
   ]
  },
  {
   "cell_type": "code",
   "execution_count": 3,
   "metadata": {
    "collapsed": true
   },
   "outputs": [],
   "source": [
    "def gen_sent_phi(sentence,w_ids):\n",
    "    sent=np.zeros(len(w_ids))\n",
    "    for w in sentence.split():\n",
    "        if w in w_ids:\n",
    "            sent[w_ids[w]]+=1\n",
    "    return sent"
   ]
  },
  {
   "cell_type": "code",
   "execution_count": 4,
   "metadata": {},
   "outputs": [
    {
     "name": "stdout",
     "output_type": "stream",
     "text": [
      "{',': 8,\n",
      " 'A': 3,\n",
      " 'Kyoto': 6,\n",
      " 'Maizuru': 5,\n",
      " 'Shoken': 0,\n",
      " 'born': 1,\n",
      " 'in': 2,\n",
      " 'located': 4,\n",
      " 'monk': 9,\n",
      " 'site': 7}\n",
      "[array([ 0.,  0.,  1.,  1.,  1.,  1.,  1.,  1.,  2.,  0.]),\n",
      " array([ 1.,  1.,  1.,  0.,  0.,  0.,  1.,  0.,  1.,  1.])]\n",
      "[array([-1]), array([1])]\n"
     ]
    }
   ],
   "source": [
    "w_ids,arrays,labels=gen_ids(\"../../test/03-train-input.txt\")\n",
    "pprint(w_ids)\n",
    "pprint(arrays)\n",
    "pprint(labels)"
   ]
  },
  {
   "cell_type": "code",
   "execution_count": 11,
   "metadata": {
    "code_folding": []
   },
   "outputs": [],
   "source": [
    "class NN():\n",
    "    def __init__(self,input_arrays,derr_dout,network_dims):\n",
    "        assert len(derr_dout)==network_dims[-1]\n",
    "        \n",
    "        self.input_arrays=input_arrays\n",
    "        self.derr_dout=derr_dout\n",
    "        self.network_len=len(network_dims)\n",
    "        self.network_dims=network_dims\n",
    "        self.input_len=len(input_arrays[0])\n",
    "        self.weights=[]\n",
    "        self.neurons_out=[]\n",
    "        self.neurons_net=[]\n",
    "        self.neurons_dout=[]\n",
    "        self.neurons_dnet=[]\n",
    "                \n",
    "        for i in range(self.network_len):\n",
    "            if i==0:\n",
    "                weights_1=[]\n",
    "                dim_prev=self.input_len\n",
    "            else:\n",
    "                dim_prev=self.network_dims[i-1]\n",
    "            dim=self.network_dims[i]\n",
    "            weight=np.random.rand(dim_prev,dim)\n",
    "            if i==0:\n",
    "                self.weights.append([weight]*len(self.input_arrays))\n",
    "            else:\n",
    "                self.weights.append(weight)\n",
    "        for i in range(self.network_len):\n",
    "            dim=self.network_dims[i]\n",
    "            self.neurons_net.append(np.zeros((1,dim)))\n",
    "            self.neurons_out.append(np.zeros((1,dim)))\n",
    "            self.neurons_dnet.append(np.zeros((1,dim)))\n",
    "            self.neurons_dout.append(np.zeros((1,dim)))\n",
    "        \n",
    "    def ff_one(self):\n",
    "        pass\n",
    "    \n",
    "    def bk_one(self):\n",
    "        pass\n",
    "    \n",
    "    def update_weight(self, lrate=0.01):\n",
    "        pass\n",
    "    \n",
    "    def set_input_arrays(self,input_arrays):\n",
    "        pass\n",
    "    \n",
    "    def set_derr_dout(self,derr_dout):\n",
    "        pass\n",
    "    \n",
    "    def get_derr_dout(self):\n",
    "        pass"
   ]
  },
  {
   "cell_type": "code",
   "execution_count": 12,
   "metadata": {
    "collapsed": true
   },
   "outputs": [],
   "source": [
    "nn=NN([arrays[0]],[labels[0]],[2,1])"
   ]
  },
  {
   "cell_type": "code",
   "execution_count": 13,
   "metadata": {
    "scrolled": true
   },
   "outputs": [
    {
     "name": "stdout",
     "output_type": "stream",
     "text": [
      "{'derr_dout': [array([-1])],\n",
      " 'input_arrays': [array([ 0.,  0.,  1.,  1.,  1.,  1.,  1.,  1.,  2.,  0.])],\n",
      " 'input_len': 10,\n",
      " 'network_dims': [2, 1],\n",
      " 'network_len': 2,\n",
      " 'neurons_dnet': [array([[ 0.,  0.]]), array([[ 0.]])],\n",
      " 'neurons_dout': [array([[ 0.,  0.]]), array([[ 0.]])],\n",
      " 'neurons_net': [array([[ 0.,  0.]]), array([[ 0.]])],\n",
      " 'neurons_out': [array([[ 0.,  0.]]), array([[ 0.]])],\n",
      " 'weights': [[array([[ 0.99045688,  0.85627995],\n",
      "       [ 0.87815324,  0.7161263 ],\n",
      "       [ 0.21988119,  0.03058383],\n",
      "       [ 0.81214908,  0.61267326],\n",
      "       [ 0.488832  ,  0.74202704],\n",
      "       [ 0.96791671,  0.6118902 ],\n",
      "       [ 0.79467931,  0.39030679],\n",
      "       [ 0.09195495,  0.15242872],\n",
      "       [ 0.18984048,  0.74551846],\n",
      "       [ 0.55393494,  0.61499266]])],\n",
      "             array([[ 0.94096111],\n",
      "       [ 0.92241761]])]}\n"
     ]
    }
   ],
   "source": [
    "pprint(nn.__dict__)"
   ]
  },
  {
   "cell_type": "code",
   "execution_count": 9,
   "metadata": {},
   "outputs": [
    {
     "data": {
      "text/plain": [
       "[1, 1, 1]"
      ]
     },
     "execution_count": 9,
     "metadata": {},
     "output_type": "execute_result"
    }
   ],
   "source": [
    "[1]*3"
   ]
  }
 ],
 "metadata": {
  "kernelspec": {
   "display_name": "Python 3",
   "language": "python",
   "name": "python3"
  },
  "language_info": {
   "codemirror_mode": {
    "name": "ipython",
    "version": 3
   },
   "file_extension": ".py",
   "mimetype": "text/x-python",
   "name": "python",
   "nbconvert_exporter": "python",
   "pygments_lexer": "ipython3",
   "version": "3.5.0"
  }
 },
 "nbformat": 4,
 "nbformat_minor": 2
}
