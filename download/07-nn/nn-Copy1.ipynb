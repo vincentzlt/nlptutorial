{
 "cells": [
  {
   "cell_type": "code",
   "execution_count": 1,
   "metadata": {},
   "outputs": [],
   "source": [
    "import numpy as np\n",
    "from IPython.core.debugger import Tracer\n",
    "#this one triggers the debugger\n",
    "from collections import defaultdict\n",
    "from pprint import pprint"
   ]
  },
  {
   "cell_type": "code",
   "execution_count": 2,
   "metadata": {
    "collapsed": true
   },
   "outputs": [],
   "source": [
    "idx_dict=defaultdict(lambda:len(idx_dict))\n",
    "phi_dict=defaultdict(int)"
   ]
  },
  {
   "cell_type": "code",
   "execution_count": 3,
   "metadata": {
    "collapsed": true
   },
   "outputs": [],
   "source": [
    "def update_phi(line,isupdate=True):\n",
    "    if isupdate:\n",
    "        for w in line.split():\n",
    "            phi_dict[idx_dict[w]]+=1"
   ]
  },
  {
   "cell_type": "code",
   "execution_count": 4,
   "metadata": {
    "collapsed": true
   },
   "outputs": [],
   "source": [
    "def get_lines_from_file(f_name):\n",
    "    for line in open(f_name, \"r\",encoding=\"utf-8\"):\n",
    "        yield line"
   ]
  },
  {
   "cell_type": "code",
   "execution_count": 5,
   "metadata": {
    "collapsed": true
   },
   "outputs": [],
   "source": [
    "for line in get_lines_from_file(\"../../test/03-train-input.txt\"):\n",
    "    cls, line=line.split(\"\\t\")\n",
    "    update_phi(line)"
   ]
  },
  {
   "cell_type": "code",
   "execution_count": 6,
   "metadata": {
    "scrolled": false
   },
   "outputs": [
    {
     "name": "stdout",
     "output_type": "stream",
     "text": [
      "defaultdict(<function <lambda> at 0x10506d598>,\n",
      "            {',': 2,\n",
      "             'A': 0,\n",
      "             'Kyoto': 6,\n",
      "             'Maizuru': 5,\n",
      "             'Shoken': 7,\n",
      "             'born': 9,\n",
      "             'in': 4,\n",
      "             'located': 3,\n",
      "             'monk': 8,\n",
      "             'site': 1})\n",
      "array(dict_values([1, 1, 3, 1, 2, 1, 2, 1, 1, 1]), dtype=object)\n"
     ]
    }
   ],
   "source": [
    "pprint(idx_dict)\n",
    "phi_array=np.array(phi_dict.values())\n",
    "pprint(phi_array)\n",
    "assert len(idx_dict)==len(phi_dict)"
   ]
  },
  {
   "cell_type": "code",
   "execution_count": 7,
   "metadata": {
    "collapsed": true
   },
   "outputs": [],
   "source": [
    "def gen_training_phi(line):\n",
    "    phi_array_ = np.zeros(len(phi_dict))\n",
    "    for w in line.split():\n",
    "        phi_array_[idx_dict[w]] += 1\n",
    "    return phi_array_"
   ]
  },
  {
   "cell_type": "code",
   "execution_count": 8,
   "metadata": {},
   "outputs": [
    {
     "name": "stdout",
     "output_type": "stream",
     "text": [
      "[ 1.  1.  2.  1.  1.  1.  1.  0.  0.  0.]\n",
      "[ 0.  0.  1.  0.  1.  0.  1.  1.  1.  1.]\n"
     ]
    }
   ],
   "source": [
    "for line in get_lines_from_file(\"../../test/03-train-input.txt\"):\n",
    "    cls, line=line.split(\"\\t\")\n",
    "    print(gen_training_phi(line))"
   ]
  },
  {
   "cell_type": "code",
   "execution_count": 9,
   "metadata": {
    "collapsed": true
   },
   "outputs": [],
   "source": [
    "def initialize_networks(*num_neurons_network):\n",
    "    num_neurons_prev=len(idx_dict)\n",
    "    ws_network=[]\n",
    "    b=np.array(1.0)\n",
    "    \n",
    "    for num_neurons_current in num_neurons_network:\n",
    "        ws_layer=[]\n",
    "        for n in range(num_neurons_current):\n",
    "            ws_neuron=np.random.rand(num_neurons_prev)\n",
    "            ws_layer.append((ws_neuron,b))\n",
    "        ws_network.append(ws_layer)\n",
    "        num_neurons_prev=len(ws_layer)\n",
    "    \n",
    "    return ws_network\n",
    "        "
   ]
  },
  {
   "cell_type": "code",
   "execution_count": 10,
   "metadata": {},
   "outputs": [
    {
     "name": "stdout",
     "output_type": "stream",
     "text": [
      "[[(array([ 0.4694723 ,  0.06268869,  0.95836348,  0.34847168,  0.45923041,\n",
      "        0.98391663,  0.1083371 ,  0.94985295,  0.31541979,  0.50689201]),\n",
      "   array(1.0)),\n",
      "  (array([ 0.20939345,  0.19411536,  0.0158895 ,  0.26965893,  0.0200784 ,\n",
      "        0.12758147,  0.10252134,  0.55719558,  0.83105145,  0.14883381]),\n",
      "   array(1.0))],\n",
      " [(array([ 0.20906651,  0.47460024]), array(1.0))]]\n"
     ]
    }
   ],
   "source": [
    "ws_network=initialize_networks(2,1)\n",
    "pprint(ws_network)"
   ]
  },
  {
   "cell_type": "code",
   "execution_count": 11,
   "metadata": {
    "collapsed": true
   },
   "outputs": [],
   "source": [
    "def forward_nn(ws_network,phi_input):\n",
    "    phis_prev=phi_input\n",
    "    phis_network=[phi_input]\n",
    "    #pprint(ws_network)\n",
    "    for idx_layer,ws_layer in enumerate(ws_network):\n",
    "        #pprint(ws_layer)\n",
    "        phis_layer=[]\n",
    "        for idx_neuron,ws_neuron in enumerate(ws_layer):\n",
    "            #pprint(ws_neuron)\n",
    "            phis_layer.append(np.tanh(np.dot(phis_prev,ws_neuron[0])+ws_neuron[1]))\n",
    "        phis_prev=phis_layer\n",
    "        phis_network.append(np.array(phis_layer))\n",
    "    return phis_network"
   ]
  },
  {
   "cell_type": "code",
   "execution_count": 12,
   "metadata": {
    "scrolled": true
   },
   "outputs": [
    {
     "name": "stdout",
     "output_type": "stream",
     "text": [
      "[array([ 0.,  0.,  1.,  0.,  1.,  0.,  1.,  1.,  1.,  1.]),\n",
      " array([ 0.99963045,  0.99055929]),\n",
      " array([ 0.93274582])]\n"
     ]
    }
   ],
   "source": [
    "phis_network=forward_nn(ws_network,gen_training_phi(\"Shoken , monk born in Kyoto\"))\n",
    "pprint(phis_network)"
   ]
  },
  {
   "cell_type": "code",
   "execution_count": 13,
   "metadata": {},
   "outputs": [],
   "source": [
    "def backward_nn(ws_network,phis_network,label):\n",
    "    grad_deltas_network=[]\n",
    "    deltas_network=[]\n",
    "    \n",
    "    for idx_layer, layer in enumerate(reversed(phis_network)):\n",
    "        \n",
    "        if idx_layer==0:\n",
    "            delta=np.array(label - layer)\n",
    "            #print(delta)\n",
    "            last_delta=delta\n",
    "            last_layer=layer\n",
    "            \n",
    "        else:\n",
    "            grad_delta=last_delta*(1-last_layer**2)\n",
    "            weight=np.vstack([t[0] for t in ws_network[-idx_layer]])\n",
    "            delta=np.dot(grad_delta,weight)\n",
    "            #print(grad_delta,delta)\n",
    "            last_delta=delta\n",
    "            last_layer=layer\n",
    "            #deltas_layer.append(delta)\n",
    "            #grad_deltas_layer.append(grad_delta)\n",
    "            deltas_network.append(delta)\n",
    "            grad_deltas_network.append(grad_delta)\n",
    "    \n",
    "    return grad_deltas_network\n"
   ]
  },
  {
   "cell_type": "code",
   "execution_count": 14,
   "metadata": {},
   "outputs": [
    {
     "name": "stdout",
     "output_type": "stream",
     "text": [
      "[array([ 0.00874205]), array([  1.35057494e-06,   7.79687925e-05])]\n"
     ]
    }
   ],
   "source": [
    "grad_deltas=backward_nn(ws_network,phis_network,1)\n",
    "pprint(grad_deltas)"
   ]
  },
  {
   "cell_type": "code",
   "execution_count": 15,
   "metadata": {},
   "outputs": [],
   "source": [
    "def update_weights(ws_network, phis_network, grad_deltas, learning_rate=0.01):\n",
    "    new_ws_network=[]\n",
    "    for idx_layer, layer in enumerate(phis_network):\n",
    "        new_ws_layer=[]\n",
    "        if idx_layer == 0:\n",
    "            layer_prev = layer\n",
    "        else:\n",
    "            grad_weight = np.outer(grad_deltas[-idx_layer], layer_prev)\n",
    "            layer_prev = layer\n",
    "            weight=np.vstack([w[0] for w in ws_network[idx_layer-1]])\n",
    "            bias=np.hstack([w[1] for w in ws_network[idx_layer-1]])\n",
    "            weight+=learning_rate*grad_weight\n",
    "            bias+=learning_rate*grad_deltas[-idx_layer]\n",
    "            for i ,j in zip(weight, bias):\n",
    "                new_ws_layer.append((np.array(i),np.array(j)))\n",
    "            new_ws_network.append(new_ws_layer)\n",
    "    return new_ws_network"
   ]
  },
  {
   "cell_type": "code",
   "execution_count": 16,
   "metadata": {
    "scrolled": true
   },
   "outputs": [
    {
     "data": {
      "text/plain": [
       "[[(array([ 0.4694723 ,  0.06268869,  0.9583635 ,  0.34847168,  0.45923042,\n",
       "           0.98391663,  0.10833711,  0.94985296,  0.3154198 ,  0.50689202]),\n",
       "   array(1.0000000135057494)),\n",
       "  (array([ 0.20939345,  0.19411536,  0.01589028,  0.26965893,  0.02007918,\n",
       "           0.12758147,  0.10252212,  0.55719636,  0.83105223,  0.14883459]),\n",
       "   array(1.0000007796879247))],\n",
       " [(array([ 0.2091539 ,  0.47468684]), array(1.0000874204932224))]]"
      ]
     },
     "execution_count": 16,
     "metadata": {},
     "output_type": "execute_result"
    }
   ],
   "source": [
    "update_weights(ws_network,phis_network,grad_deltas)"
   ]
  },
  {
   "cell_type": "code",
   "execution_count": 17,
   "metadata": {},
   "outputs": [],
   "source": [
    "def train_model(f_name,ws_network,num_iteration=10000):\n",
    "    for i in range(num_iteration):\n",
    "        for line in get_lines_from_file(\"../../test/03-train-input.txt\"):\n",
    "            cls, line=line.split(\"\\t\")\n",
    "            cls=int(cls)\n",
    "            phi=gen_training_phi(line)\n",
    "            phi=forward_nn(ws_network,phi_input=phi)\n",
    "            grad_delta=backward_nn(label=cls,phis_network=phi,ws_network=ws_network)\n",
    "            ws_network=update_weights(ws_network,phis_network=phi,grad_deltas=grad_delta)\n",
    "    return ws_network"
   ]
  },
  {
   "cell_type": "code",
   "execution_count": 18,
   "metadata": {},
   "outputs": [
    {
     "data": {
      "text/plain": [
       "[[(array([ 0.46982855,  0.06304494,  0.95611312,  0.34882792,  0.4566238 ,\n",
       "           0.98427288,  0.1057305 ,  0.9468901 ,  0.31245694,  0.50392916]),\n",
       "   array(0.9973933940063603)),\n",
       "  (array([-0.24294061, -0.2582187 , -0.68234541, -0.18267513, -0.22582245,\n",
       "          -0.32475259, -0.14337951,  0.76362879,  1.03748466,  0.35526703]),\n",
       "   array(0.7540991534056763))],\n",
       " [(array([-0.39136297,  2.23287652]), array(0.4026558714604535))]]"
      ]
     },
     "execution_count": 18,
     "metadata": {},
     "output_type": "execute_result"
    }
   ],
   "source": [
    "train_model(\"../../test/03-train-input.txt\",ws_network)"
   ]
  },
  {
   "cell_type": "code",
   "execution_count": 19,
   "metadata": {},
   "outputs": [
    {
     "data": {
      "text/plain": [
       "[array([ 0.,  0.,  1.,  0.,  1.,  0.,  1.,  1.,  1.,  1.]),\n",
       " array([ 0.99963045,  0.99055929]),\n",
       " array([ 0.93274582])]"
      ]
     },
     "execution_count": 19,
     "metadata": {},
     "output_type": "execute_result"
    }
   ],
   "source": [
    "forward_nn(ws_network,gen_training_phi(\"Shoken , monk born in Kyoto\"))"
   ]
  },
  {
   "cell_type": "code",
   "execution_count": null,
   "metadata": {
    "collapsed": true
   },
   "outputs": [],
   "source": []
  }
 ],
 "metadata": {
  "kernelspec": {
   "display_name": "Python 3",
   "language": "python",
   "name": "python3"
  },
  "language_info": {
   "codemirror_mode": {
    "name": "ipython",
    "version": 3
   },
   "file_extension": ".py",
   "mimetype": "text/x-python",
   "name": "python",
   "nbconvert_exporter": "python",
   "pygments_lexer": "ipython3",
   "version": "3.5.0"
  }
 },
 "nbformat": 4,
 "nbformat_minor": 2
}
