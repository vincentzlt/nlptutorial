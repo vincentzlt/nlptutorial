{
 "cells": [
  {
   "cell_type": "code",
   "execution_count": 78,
   "metadata": {
    "collapsed": true
   },
   "outputs": [],
   "source": [
    "import numpy as np\n",
    "from pprint import pprint\n",
    "import pdir"
   ]
  },
  {
   "cell_type": "code",
   "execution_count": 72,
   "metadata": {
    "code_folding": []
   },
   "outputs": [],
   "source": [
    "class NN():\n",
    "    def __init__(self, input_matrix, labels, network_dims):\n",
    "        \"\"\"initialize the network. all hidden and output nodes are calculated by tanh(sum(x*w))\n",
    "            ================input=================\n",
    "            input_matrix:\n",
    "                np.matrix, each line (axis 0) represents an input vector\n",
    "            labels:\n",
    "                np.array, each item represents a label\n",
    "            network_dims:\n",
    "                tuples, the dimensions of the network (not including the input dim)\"\"\"\n",
    "        assert input_matrix.shape[1] == labels.shape[0]\n",
    "\n",
    "        self.input_matrix = input_matrix\n",
    "        self.labels = labels\n",
    "        self.network_neuron_outputs = []\n",
    "        self.network_grads = []\n",
    "        self.network_weights = []\n",
    "        self.network_neuron_values=[]\n",
    "        for dim,dim_prev in zip(network_dims,(labels.shape[0],*network_dims)):\n",
    "#             print(dim,dim_prev)\n",
    "#             input()\n",
    "            layer_neuron_outputs = np.zeros((dim, 1))\n",
    "            layer_neuron_values=np.zeros_like(layer_neurons)\n",
    "            layer_grads = np.zeros_like(layer_neurons)\n",
    "            layer_weights=np.random.rand(dim_prev,dim)\n",
    "            \n",
    "            self.network_neuron_values.append(layer_neuron_values)\n",
    "            self.network_neurons.append(layer_neurons)\n",
    "            self.network_grads.append(layer_grads)\n",
    "            self.network_weights.append(layer_weights)\n",
    "            \n",
    "    def ff_one(self, line):\n",
    "        \"\"\"feed forward for one time; update the neurons based on weights\n",
    "            for one neuron: \n",
    "                n_val=N_prev * W_current\n",
    "                n_out=tanh(n_val)\n",
    "            ================input==============\n",
    "            line:\n",
    "                np.array, the input vector\n",
    "                \"\"\"\n",
    "        assert line.shape[0]==self.network_weights[0].shape[0]\n",
    "        for idx,weights_m in enumerate(self.network_weights):\n",
    "            if idx==0:\n",
    "                neurons_prev=line\n",
    "            else:\n",
    "                neurons_prev=self.network_neurons[idx-1]\n",
    "            self.network_neuron_values[idx]=np.matmul(neurons_prev,weights_m)\n",
    "            self.network_neurons[idx]=np.tanh(self.network_neuron_values[idx])\n",
    "\n",
    "    def bk_one(self, label):\n",
    "        \"\"\"calculate the gradient value at each node\n",
    "            \n",
    "            =================input=================\n",
    "            label:\n",
    "                np.array of (1, ),the label of the output\"\"\"\n",
    "        assert label.shape[0]==1\n",
    "        for idx,grads in enumerate(reversed(self.network_grads)):\n",
    "            if idx==0:\n",
    "                err_grad=label-self.network_neurons[-1]"
   ]
  },
  {
   "cell_type": "code",
   "execution_count": 73,
   "metadata": {},
   "outputs": [],
   "source": [
    "nn=NN(a,b,(3,1))"
   ]
  },
  {
   "cell_type": "code",
   "execution_count": 74,
   "metadata": {},
   "outputs": [],
   "source": [
    "nn.ff_one(np.array([1,2,3,4,5]))\n",
    "nn.ff_one(np.array([2,3,4,5,6]))"
   ]
  },
  {
   "cell_type": "code",
   "execution_count": 80,
   "metadata": {},
   "outputs": [
    {
     "name": "stdout",
     "output_type": "stream",
     "text": [
      "{'input_matrix': array([[10, 20, 30, 40, 50],\n",
      "       [11, 21, 31, 41, 51],\n",
      "       [12, 22, 32, 42, 52],\n",
      "       [13, 23, 33, 43, 53],\n",
      "       [14, 24, 34, 44, 54],\n",
      "       [15, 25, 35, 45, 55]]),\n",
      " 'labels': array([1, 2, 3, 4, 5]),\n",
      " 'network_grads': [array([[ 0.],\n",
      "       [ 0.],\n",
      "       [ 0.]]), array([[ 0.]])],\n",
      " 'network_neuron_values': [array([  4.69870327,  11.30359916,   8.21221944]),\n",
      "                           array([ 1.21449741])],\n",
      " 'network_neurons': [array([ 0.99983414,  1.        ,  0.99999985]),\n",
      "                     array([ 0.8380235])],\n",
      " 'network_weights': [array([[ 0.20627635,  0.80544132,  0.75248393],\n",
      "       [ 0.76875593,  0.02722891,  0.2475711 ],\n",
      "       [ 0.12710566,  0.95264163,  0.31045845],\n",
      "       [ 0.17432225,  0.63051599,  0.48039315],\n",
      "       [ 0.09997482,  0.44131389,  0.38678978]]),\n",
      "                     array([[ 0.20988014],\n",
      "       [ 0.18208367],\n",
      "       [ 0.82256853]])]}\n"
     ]
    }
   ],
   "source": [
    "pprint(nn.__dict__,)"
   ]
  },
  {
   "cell_type": "code",
   "execution_count": 16,
   "metadata": {},
   "outputs": [
    {
     "data": {
      "text/plain": [
       "(6, 5)"
      ]
     },
     "execution_count": 16,
     "metadata": {},
     "output_type": "execute_result"
    }
   ],
   "source": [
    "a.shape"
   ]
  },
  {
   "cell_type": "code",
   "execution_count": 16,
   "metadata": {},
   "outputs": [
    {
     "data": {
      "text/plain": [
       "(4, 3)"
      ]
     },
     "execution_count": 16,
     "metadata": {},
     "output_type": "execute_result"
    }
   ],
   "source": [
    "c.shape"
   ]
  },
  {
   "cell_type": "code",
   "execution_count": 1,
   "metadata": {
    "collapsed": true
   },
   "outputs": [],
   "source": [
    "t=\"\"\"P. Noyes and others, \"Low Level Exposure to the Flame Retardant BDE-209 Reduces Thyroid Hormone Levels and Disrupts Thyroid Signaling in Fathead Minnows\", Environmental Science & Technology, Vol. 47, No. 17 (2013), pp. 10012−10021.\n",
    "\"\"\""
   ]
  },
  {
   "cell_type": "code",
   "execution_count": 4,
   "metadata": {},
   "outputs": [
    {
     "data": {
      "text/plain": [
       "'P. Noyes and others, \"Low Level Exposure to the Flame Retardant BDE-209 Reduces Thyroid Hormone Levels and Disrupts Thyroid Signaling in Fathead Minnows\", Environmental Science & Technology, Vol. 47, No. 17 (2013), pp. 10012\\xe2\\x88\\x9210021.\\n'"
      ]
     },
     "execution_count": 4,
     "metadata": {},
     "output_type": "execute_result"
    }
   ],
   "source": [
    "t.decode(\"utf-8\").encode(\"utf-8\")"
   ]
  },
  {
   "cell_type": "code",
   "execution_count": null,
   "metadata": {
    "collapsed": true
   },
   "outputs": [],
   "source": []
  }
 ],
 "metadata": {
  "kernelspec": {
   "display_name": "Python 2",
   "language": "python",
   "name": "python2"
  },
  "language_info": {
   "codemirror_mode": {
    "name": "ipython",
    "version": 3
   },
   "file_extension": ".py",
   "mimetype": "text/x-python",
   "name": "python",
   "nbconvert_exporter": "python",
   "pygments_lexer": "ipython3",
   "version": "3.5.0"
  }
 },
 "nbformat": 4,
 "nbformat_minor": 2
}
