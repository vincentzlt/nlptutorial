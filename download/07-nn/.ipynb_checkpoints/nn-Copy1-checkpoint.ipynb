{
 "cells": [
  {
   "cell_type": "code",
   "execution_count": 220,
   "metadata": {
    "collapsed": false
   },
   "outputs": [],
   "source": [
    "import numpy as np\n",
    "from IPython.core.debugger import Tracer\n",
    "#this one triggers the debugger\n",
    "from collections import defaultdict\n",
    "from pprint import pprint"
   ]
  },
  {
   "cell_type": "code",
   "execution_count": 221,
   "metadata": {
    "collapsed": true
   },
   "outputs": [],
   "source": [
    "idx_dict=defaultdict(lambda:len(idx_dict))\n",
    "phi_dict=defaultdict(int)"
   ]
  },
  {
   "cell_type": "code",
   "execution_count": 222,
   "metadata": {
    "collapsed": true
   },
   "outputs": [],
   "source": [
    "def update_phi(line,isupdate=True):\n",
    "    if isupdate:\n",
    "        for w in line.split():\n",
    "            phi_dict[idx_dict[w]]+=1"
   ]
  },
  {
   "cell_type": "code",
   "execution_count": 223,
   "metadata": {
    "collapsed": true
   },
   "outputs": [],
   "source": [
    "def get_lines_from_file(f_name):\n",
    "    for line in open(f_name, \"r\",encoding=\"utf-8\"):\n",
    "        yield line"
   ]
  },
  {
   "cell_type": "code",
   "execution_count": 224,
   "metadata": {
    "collapsed": true
   },
   "outputs": [],
   "source": [
    "for line in get_lines_from_file(\"../../test/03-train-input.txt\"):\n",
    "    cls, line=line.split(\"\\t\")\n",
    "    update_phi(line)"
   ]
  },
  {
   "cell_type": "code",
   "execution_count": 225,
   "metadata": {
    "collapsed": false,
    "scrolled": false
   },
   "outputs": [
    {
     "name": "stdout",
     "output_type": "stream",
     "text": [
      "defaultdict(<function <lambda> at 0x00000217973818C8>,\n",
      "            {',': 2,\n",
      "             'A': 0,\n",
      "             'Kyoto': 6,\n",
      "             'Maizuru': 5,\n",
      "             'Shoken': 7,\n",
      "             'born': 9,\n",
      "             'in': 4,\n",
      "             'located': 3,\n",
      "             'monk': 8,\n",
      "             'site': 1})\n",
      "array(dict_values([1, 1, 3, 1, 2, 1, 2, 1, 1, 1]), dtype=object)\n"
     ]
    }
   ],
   "source": [
    "pprint(idx_dict)\n",
    "phi_array=np.array(phi_dict.values())\n",
    "pprint(phi_array)\n",
    "assert len(idx_dict)==len(phi_dict)"
   ]
  },
  {
   "cell_type": "code",
   "execution_count": 226,
   "metadata": {
    "collapsed": true
   },
   "outputs": [],
   "source": [
    "def gen_training_phi(line):\n",
    "    phi_array_ = np.zeros(len(phi_dict))\n",
    "    for w in line.split():\n",
    "        phi_array_[idx_dict[w]] += 1\n",
    "    return phi_array_"
   ]
  },
  {
   "cell_type": "code",
   "execution_count": 15,
   "metadata": {
    "collapsed": false
   },
   "outputs": [
    {
     "name": "stdout",
     "output_type": "stream",
     "text": [
      "[ 1.  1.  2.  1.  1.  1.  1.  0.  0.  0.]\n",
      "[ 0.  0.  1.  0.  1.  0.  1.  1.  1.  1.]\n"
     ]
    }
   ],
   "source": [
    "for line in get_lines_from_file(\"../../test/03-train-input.txt\"):\n",
    "    cls, line=line.split(\"\\t\")\n",
    "    print(gen_training_phi(line))"
   ]
  },
  {
   "cell_type": "code",
   "execution_count": 227,
   "metadata": {
    "collapsed": true
   },
   "outputs": [],
   "source": [
    "def initialize_networks(*num_neurons_network):\n",
    "    num_neurons_prev=len(idx_dict)\n",
    "    ws_network=[]\n",
    "    b=np.array(1.0)\n",
    "    \n",
    "    for num_neurons_current in num_neurons_network:\n",
    "        ws_layer=[]\n",
    "        for n in range(num_neurons_current):\n",
    "            ws_neuron=np.random.rand(num_neurons_prev)\n",
    "            ws_layer.append((ws_neuron,b))\n",
    "        ws_network.append(ws_layer)\n",
    "        num_neurons_prev=len(ws_layer)\n",
    "    \n",
    "    return ws_network\n",
    "        "
   ]
  },
  {
   "cell_type": "code",
   "execution_count": 228,
   "metadata": {
    "collapsed": false
   },
   "outputs": [
    {
     "name": "stdout",
     "output_type": "stream",
     "text": [
      "[[(array([ 0.38377799,  0.70017544,  0.71663682,  0.26932773,  0.79808574,\n",
      "        0.8257638 ,  0.90260951,  0.48472258,  0.15587166,  0.01589945]),\n",
      "   array(1.0)),\n",
      "  (array([ 0.18087087,  0.16160342,  0.80079781,  0.75544839,  0.67879473,\n",
      "        0.88163424,  0.19770477,  0.72805397,  0.85768922,  0.78986048]),\n",
      "   array(1.0))],\n",
      " [(array([ 0.32230081,  0.92467974]), array(1.0))]]\n"
     ]
    }
   ],
   "source": [
    "ws_network=initialize_networks(2,1)\n",
    "pprint(ws_network)"
   ]
  },
  {
   "cell_type": "code",
   "execution_count": 229,
   "metadata": {
    "collapsed": true
   },
   "outputs": [],
   "source": [
    "def forward_nn(ws_network,phi_input):\n",
    "    phis_prev=phi_input\n",
    "    phis_network=[phi_input]\n",
    "    #pprint(ws_network)\n",
    "    for idx_layer,ws_layer in enumerate(ws_network):\n",
    "        #pprint(ws_layer)\n",
    "        phis_layer=[]\n",
    "        for idx_neuron,ws_neuron in enumerate(ws_layer):\n",
    "            #pprint(ws_neuron)\n",
    "            phis_layer.append(np.tanh(np.dot(phis_prev,ws_neuron[0])+ws_neuron[1]))\n",
    "        phis_prev=phis_layer\n",
    "        phis_network.append(np.array(phis_layer))\n",
    "    return phis_network"
   ]
  },
  {
   "cell_type": "code",
   "execution_count": 230,
   "metadata": {
    "collapsed": false,
    "scrolled": true
   },
   "outputs": [
    {
     "name": "stdout",
     "output_type": "stream",
     "text": [
      "[array([ 0.,  0.,  1.,  0.,  1.,  0.,  1.,  1.,  1.,  1.]),\n",
      " array([ 0.99942134,  0.99991832]),\n",
      " array([ 0.97788303])]\n"
     ]
    }
   ],
   "source": [
    "phis_network=forward_nn(ws_network,gen_training_phi(\"Shoken , monk born in Kyoto\"))\n",
    "pprint(phis_network)"
   ]
  },
  {
   "cell_type": "code",
   "execution_count": 231,
   "metadata": {
    "collapsed": false
   },
   "outputs": [],
   "source": [
    "def backward_nn(ws_network,phis_network,label):\n",
    "    grad_deltas_network=[]\n",
    "    deltas_network=[]\n",
    "    \n",
    "    for idx_layer, layer in enumerate(reversed(phis_network)):\n",
    "        \n",
    "        if idx_layer==0:\n",
    "            delta=np.array(label - layer)\n",
    "            #print(delta)\n",
    "            last_delta=delta\n",
    "            last_layer=layer\n",
    "            \n",
    "        else:\n",
    "            grad_delta=last_delta*(1-last_layer**2)\n",
    "            weight=np.vstack([t[0] for t in ws_network[-idx_layer]])\n",
    "            delta=np.dot(grad_delta,weight)\n",
    "            #print(grad_delta,delta)\n",
    "            last_delta=delta\n",
    "            last_layer=layer\n",
    "            #deltas_layer.append(delta)\n",
    "            #grad_deltas_layer.append(grad_delta)\n",
    "            deltas_network.append(delta)\n",
    "            grad_deltas_network.append(grad_delta)\n",
    "    \n",
    "    return grad_deltas_network\n"
   ]
  },
  {
   "cell_type": "code",
   "execution_count": 232,
   "metadata": {
    "collapsed": false
   },
   "outputs": [
    {
     "name": "stdout",
     "output_type": "stream",
     "text": [
      "[array([ 0.0009675]), array([  3.60779570e-07,   1.46141585e-07])]\n"
     ]
    }
   ],
   "source": [
    "grad_deltas=backward_nn(ws_network,phis_network,1)\n",
    "pprint(grad_deltas)"
   ]
  },
  {
   "cell_type": "code",
   "execution_count": 233,
   "metadata": {
    "collapsed": false
   },
   "outputs": [],
   "source": [
    "def update_weights(ws_network, phis_network, grad_deltas, learning_rate=0.1):\n",
    "    new_ws_network=[]\n",
    "    for idx_layer, layer in enumerate(phis_network):\n",
    "        new_ws_layer=[]\n",
    "        if idx_layer == 0:\n",
    "            layer_prev = layer\n",
    "        else:\n",
    "            grad_weight = np.outer(grad_deltas[-idx_layer], layer_prev)\n",
    "            layer_prev = layer\n",
    "            weight=np.vstack([w[0] for w in ws_network[idx_layer-1]])\n",
    "            bias=np.hstack([w[1] for w in ws_network[idx_layer-1]])\n",
    "            weight+=learning_rate*grad_weight\n",
    "            bias+=learning_rate*grad_deltas[-idx_layer]\n",
    "            for i ,j in zip(weight, bias):\n",
    "                new_ws_layer.append((np.array(i),np.array(j)))\n",
    "            new_ws_network.append(new_ws_layer)\n",
    "    return new_ws_network"
   ]
  },
  {
   "cell_type": "code",
   "execution_count": 234,
   "metadata": {
    "collapsed": false,
    "scrolled": true
   },
   "outputs": [
    {
     "data": {
      "text/plain": [
       "[[(array([ 0.38377799,  0.70017544,  0.71663685,  0.26932773,  0.79808578,\n",
       "           0.8257638 ,  0.90260955,  0.48472261,  0.1558717 ,  0.01589949]),\n",
       "   array(1.000000036077957)),\n",
       "  (array([ 0.18087087,  0.16160342,  0.80079782,  0.75544839,  0.67879475,\n",
       "           0.88163424,  0.19770478,  0.72805399,  0.85768924,  0.7898605 ]),\n",
       "   array(1.0000000146141585))],\n",
       " [(array([ 0.32239751,  0.92477648]), array(1.0000967502259197))]]"
      ]
     },
     "execution_count": 234,
     "metadata": {},
     "output_type": "execute_result"
    }
   ],
   "source": [
    "update_weights(ws_network,phis_network,grad_deltas)"
   ]
  },
  {
   "cell_type": "code",
   "execution_count": 235,
   "metadata": {
    "collapsed": false
   },
   "outputs": [],
   "source": [
    "def train_model(f_name,ws_network,num_iteration=10000):\n",
    "    for i in range(num_iteration):\n",
    "        for line in get_lines_from_file(\"../../test/03-train-input.txt\"):\n",
    "            cls, line=line.split(\"\\t\")\n",
    "            cls=int(cls)\n",
    "            phi=gen_training_phi(line)\n",
    "            phi=forward_nn(ws_network,phi_input=phi)\n",
    "            grad_delta=backward_nn(label=cls,phis_network=phi,ws_network=ws_network)\n",
    "            ws_network=update_weights(ws_network,phis_network=phi,grad_deltas=grad_delta)\n",
    "    return ws_network"
   ]
  },
  {
   "cell_type": "code",
   "execution_count": 236,
   "metadata": {
    "collapsed": false
   },
   "outputs": [
    {
     "data": {
      "text/plain": [
       "[[(array([ 0.44544234,  0.7618398 , -0.08490285,  0.33099209, -0.06511828,\n",
       "           0.88742815,  0.03940548, -0.4401458 , -0.76899672, -0.90896893]),\n",
       "   array(0.13679597439982444)),\n",
       "  (array([ 0.17862974,  0.15936229,  0.79899458,  0.75320726,  0.67923264,\n",
       "           0.8793931 ,  0.19814268,  0.73073302,  0.86036827,  0.79253953]),\n",
       "   array(1.0004379087892703))],\n",
       " [(array([-2.7952207 , -0.03031584]), array(0.05029153911560079))]]"
      ]
     },
     "execution_count": 236,
     "metadata": {},
     "output_type": "execute_result"
    }
   ],
   "source": [
    "train_model(\"../../test/03-train-input.txt\",ws_network)"
   ]
  },
  {
   "cell_type": "code",
   "execution_count": 238,
   "metadata": {
    "collapsed": false
   },
   "outputs": [
    {
     "data": {
      "text/plain": [
       "[array([ 0.,  0.,  1.,  0.,  1.,  0.,  1.,  1.,  1.,  1.]),\n",
       " array([ 0.99942134,  0.99991832]),\n",
       " array([ 0.97788303])]"
      ]
     },
     "execution_count": 238,
     "metadata": {},
     "output_type": "execute_result"
    }
   ],
   "source": [
    "forward_nn(ws_network,gen_training_phi(\"Shoken , monk born in Kyoto\"))"
   ]
  },
  {
   "cell_type": "code",
   "execution_count": null,
   "metadata": {
    "collapsed": true
   },
   "outputs": [],
   "source": []
  }
 ],
 "metadata": {
  "kernelspec": {
   "display_name": "Python 3",
   "language": "python",
   "name": "python3"
  },
  "language_info": {
   "codemirror_mode": {
    "name": "ipython",
    "version": 3
   },
   "file_extension": ".py",
   "mimetype": "text/x-python",
   "name": "python",
   "nbconvert_exporter": "python",
   "pygments_lexer": "ipython3",
   "version": "3.5.3"
  }
 },
 "nbformat": 4,
 "nbformat_minor": 2
}
