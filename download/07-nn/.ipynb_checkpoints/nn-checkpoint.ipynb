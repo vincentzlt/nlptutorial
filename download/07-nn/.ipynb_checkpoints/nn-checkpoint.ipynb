{
 "cells": [
  {
   "cell_type": "code",
   "execution_count": 1,
   "metadata": {
    "collapsed": true
   },
   "outputs": [],
   "source": [
    "import numpy as np\n",
    "from collections import defaultdict"
   ]
  },
  {
   "cell_type": "code",
   "execution_count": 6,
   "metadata": {
    "collapsed": true
   },
   "outputs": [],
   "source": [
    "def read_file(f_name):\n",
    "    # read file. one line contains class number and sentence separated by a tab.\n",
    "    \"\"\"\n",
    "    input:\n",
    "        f_name:    the file name containing the training texts and classes\n",
    "    output:\n",
    "        phi_dict:    updated phi_dict\n",
    "        phi:         updated weight matrix\n",
    "    \"\"\"\n",
    "    pass"
   ]
  },
  {
   "cell_type": "code",
   "execution_count": 7,
   "metadata": {
    "collapsed": true
   },
   "outputs": [],
   "source": [
    "def update_phi(phi_dict,phi,line):\n",
    "    \"\"\"\n",
    "    input:\n",
    "        phi_dict:    dict indicating the word and idx\n",
    "        line:        the line that is used to update weight matrices\n",
    "        phi:         weight matrix to be updated\n",
    "    output:\n",
    "        phi_dict:    updated phi_dict\n",
    "        phi:         updated weight matrix\n",
    "    \"\"\"\n",
    "    pass"
   ]
  },
  {
   "cell_type": "code",
   "execution_count": null,
   "metadata": {
    "collapsed": true
   },
   "outputs": [],
   "source": [
    "def init_networks(m,n):\n",
    "    \"\"\"\n",
    "    \n",
    "    \"\"\"\n",
    "    pass"
   ]
  }
 ],
 "metadata": {
  "kernelspec": {
   "display_name": "Python 3",
   "language": "python",
   "name": "python3"
  },
  "language_info": {
   "codemirror_mode": {
    "name": "ipython",
    "version": 3
   },
   "file_extension": ".py",
   "mimetype": "text/x-python",
   "name": "python",
   "nbconvert_exporter": "python",
   "pygments_lexer": "ipython3",
   "version": "3.5.3"
  }
 },
 "nbformat": 4,
 "nbformat_minor": 2
}
