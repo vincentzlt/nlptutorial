{
 "cells": [
  {
   "cell_type": "code",
   "execution_count": 1,
   "metadata": {
    "collapsed": true
   },
   "outputs": [],
   "source": [
    "import numpy as np\n",
    "from pprint import pprint\n",
    "import pdir"
   ]
  },
  {
   "cell_type": "code",
   "execution_count": 12,
   "metadata": {},
   "outputs": [],
   "source": [
    "def gen_ids(f_names):\n",
    "    words=[]\n",
    "    labels=[]\n",
    "    for line in open(f_names,\"r\",encoding=\"utf-8\"):\n",
    "        label,sentence=line.split(\"\\t\")\n",
    "        labels.append(int(label))\n",
    "        for w in sentence.split():\n",
    "            words.append(w)\n",
    "    words=set(words)\n",
    "    w_ids={}\n",
    "    \n",
    "    for w in words:\n",
    "        w_ids[w]=len(w_ids)\n",
    "    sentences=[]\n",
    "    for line in open(f_names,\"r\",encoding=\"utf-8\"):\n",
    "        label,sentence=line.split(\"\\t\")\n",
    "        sent=np.zeros(len(w_ids))\n",
    "        for w in sentence.split():\n",
    "            sent[w_ids[w]]+=1\n",
    "        sentences.append(sent)\n",
    "    return w_ids,sentences,labels"
   ]
  },
  {
   "cell_type": "code",
   "execution_count": 17,
   "metadata": {},
   "outputs": [],
   "source": [
    "w_ids,sentences,labels=gen_ids(\"../../test/03-train-input.txt\")"
   ]
  },
  {
   "cell_type": "code",
   "execution_count": 18,
   "metadata": {},
   "outputs": [
    {
     "data": {
      "text/plain": [
       "[array([ 1.,  1.,  1.,  0.,  1.,  0.,  1.,  0.,  1.,  2.]),\n",
       " array([ 0.,  1.,  0.,  1.,  0.,  1.,  0.,  1.,  1.,  1.])]"
      ]
     },
     "execution_count": 18,
     "metadata": {},
     "output_type": "execute_result"
    }
   ],
   "source": [
    "sentences"
   ]
  },
  {
   "cell_type": "code",
   "execution_count": 31,
   "metadata": {
    "code_folding": []
   },
   "outputs": [],
   "source": [
    "class NN():\n",
    "    from pprint import pprint\n",
    "    def __init__(self, input_list, labels, network_dims):\n",
    "        assert len(input_list) == len(labels)\n",
    "\n",
    "        self.input_list = input_list\n",
    "        self.labels = labels\n",
    "        self.network_neuron_outputs = []\n",
    "        self.network_neuron_nets = []\n",
    "\n",
    "        self.network_neuron_derr_net = []\n",
    "        self.netword_neuron_dnet_weight = []\n",
    "\n",
    "        self.network_weights = []\n",
    "\n",
    "        dim_prev = len(input_list[0])\n",
    "        for i in range(len(network_dims)):\n",
    "            dim = network_dims[i]\n",
    "            self.network_weights.append(np.random.rand(dim_prev, dim))\n",
    "            self.network_neuron_outputs.append(np.zeros(dim))\n",
    "            self.network_neuron_nets.append(np.zeros(dim))\n",
    "            self.network_neuron_derr_net.append(np.zeros(dim))\n",
    "            self.netword_neuron_dnet_weight.append(np.zeros(dim))\n",
    "        self.network = (self.network_neuron_outputs, self.network_neuron_nets,\n",
    "                        self.network_neuron_derr_net,\n",
    "                        self.netword_neuron_dnet_weight)\n",
    "    def print_network(self):\n",
    "        for w in self.__dict__:\n",
    "            if w.startswith(\"network\"):\n",
    "                print(w)\n",
    "                pprint(self.__dict__[w])\n",
    "                print()\n",
    "    def ff_one(self, line):\n",
    "        \n",
    "        assert line.shape[0] == self.network_weights[0].shape[0]\n",
    "        for idx, weights_m in enumerate(self.network_weights):\n",
    "            if idx == 0:\n",
    "                neurons_prev = line\n",
    "            else:\n",
    "                neurons_prev = self.network_neurons[idx - 1]\n",
    "            self.network_neuron_values[idx] = np.matmul(\n",
    "                neurons_prev, weights_m)\n",
    "            self.network_neurons[idx] = np.tanh(\n",
    "                self.network_neuron_values[idx])\n",
    "\n",
    "    def bk_one(self, label):\n",
    "        \"\"\"calculate the gradient value at each node\n",
    "            \n",
    "            =================input=================\n",
    "            label:\n",
    "                np.array of (1, ),the label of the output\"\"\"\n",
    "        assert label.shape[0] == 1\n",
    "        for idx, grads in enumerate(reversed(self.network_grads)):\n",
    "            if idx == 0:\n",
    "                err_grad = label - self.network_neurons[-1]"
   ]
  },
  {
   "cell_type": "code",
   "execution_count": 32,
   "metadata": {},
   "outputs": [],
   "source": [
    "nn=NN(sentences,labels,(3,1))"
   ]
  },
  {
   "cell_type": "code",
   "execution_count": 33,
   "metadata": {},
   "outputs": [
    {
     "name": "stdout",
     "output_type": "stream",
     "text": [
      "network_weights\n",
      "[array([[ 0.02497901,  0.77946276,  0.79709942],\n",
      "       [ 0.99541781,  0.53988807,  0.92184394],\n",
      "       [ 0.29226027,  0.04626913,  0.63308508],\n",
      "       [ 0.80179101,  0.70499817,  0.41151357],\n",
      "       [ 0.37736323,  0.8185903 ,  0.43778783],\n",
      "       [ 0.9538139 ,  0.43566442,  0.00162913],\n",
      "       [ 0.87571171,  0.42080892,  0.26236418],\n",
      "       [ 0.78146572,  0.75159541,  0.35545547],\n",
      "       [ 0.33884108,  0.19184227,  0.05413278],\n",
      "       [ 0.246161  ,  0.73139035,  0.29324134]]),\n",
      " array([[ 0.54517606],\n",
      "       [ 0.76976975],\n",
      "       [ 0.68925018],\n",
      "       [ 0.6907972 ],\n",
      "       [ 0.08481177],\n",
      "       [ 0.9956873 ],\n",
      "       [ 0.3630488 ],\n",
      "       [ 0.92860326],\n",
      "       [ 0.45651675],\n",
      "       [ 0.21736996]])]\n",
      "\n",
      "network\n",
      "([array([ 0.,  0.,  0.]), array([ 0.])],\n",
      " [array([ 0.,  0.,  0.]), array([ 0.])],\n",
      " [array([ 0.,  0.,  0.]), array([ 0.])],\n",
      " [array([ 0.,  0.,  0.]), array([ 0.])])\n",
      "\n",
      "network_neuron_outputs\n",
      "[array([ 0.,  0.,  0.]), array([ 0.])]\n",
      "\n",
      "network_neuron_derr_net\n",
      "[array([ 0.,  0.,  0.]), array([ 0.])]\n",
      "\n",
      "network_neuron_nets\n",
      "[array([ 0.,  0.,  0.]), array([ 0.])]\n",
      "\n"
     ]
    }
   ],
   "source": [
    "nn.print_network()"
   ]
  },
  {
   "cell_type": "code",
   "execution_count": 80,
   "metadata": {},
   "outputs": [
    {
     "name": "stdout",
     "output_type": "stream",
     "text": [
      "{'input_matrix': array([[10, 20, 30, 40, 50],\n",
      "       [11, 21, 31, 41, 51],\n",
      "       [12, 22, 32, 42, 52],\n",
      "       [13, 23, 33, 43, 53],\n",
      "       [14, 24, 34, 44, 54],\n",
      "       [15, 25, 35, 45, 55]]),\n",
      " 'labels': array([1, 2, 3, 4, 5]),\n",
      " 'network_grads': [array([[ 0.],\n",
      "       [ 0.],\n",
      "       [ 0.]]), array([[ 0.]])],\n",
      " 'network_neuron_values': [array([  4.69870327,  11.30359916,   8.21221944]),\n",
      "                           array([ 1.21449741])],\n",
      " 'network_neurons': [array([ 0.99983414,  1.        ,  0.99999985]),\n",
      "                     array([ 0.8380235])],\n",
      " 'network_weights': [array([[ 0.20627635,  0.80544132,  0.75248393],\n",
      "       [ 0.76875593,  0.02722891,  0.2475711 ],\n",
      "       [ 0.12710566,  0.95264163,  0.31045845],\n",
      "       [ 0.17432225,  0.63051599,  0.48039315],\n",
      "       [ 0.09997482,  0.44131389,  0.38678978]]),\n",
      "                     array([[ 0.20988014],\n",
      "       [ 0.18208367],\n",
      "       [ 0.82256853]])]}\n"
     ]
    }
   ],
   "source": [
    "pprint(nn.__dict__,)"
   ]
  },
  {
   "cell_type": "code",
   "execution_count": 16,
   "metadata": {},
   "outputs": [
    {
     "data": {
      "text/plain": [
       "(6, 5)"
      ]
     },
     "execution_count": 16,
     "metadata": {},
     "output_type": "execute_result"
    }
   ],
   "source": [
    "a.shape"
   ]
  },
  {
   "cell_type": "code",
   "execution_count": 16,
   "metadata": {},
   "outputs": [
    {
     "data": {
      "text/plain": [
       "(4, 3)"
      ]
     },
     "execution_count": 16,
     "metadata": {},
     "output_type": "execute_result"
    }
   ],
   "source": [
    "c.shape"
   ]
  },
  {
   "cell_type": "code",
   "execution_count": 1,
   "metadata": {
    "collapsed": true
   },
   "outputs": [],
   "source": [
    "t=\"\"\"P. Noyes and others, \"Low Level Exposure to the Flame Retardant BDE-209 Reduces Thyroid Hormone Levels and Disrupts Thyroid Signaling in Fathead Minnows\", Environmental Science & Technology, Vol. 47, No. 17 (2013), pp. 10012−10021.\n",
    "\"\"\""
   ]
  },
  {
   "cell_type": "code",
   "execution_count": 4,
   "metadata": {},
   "outputs": [
    {
     "data": {
      "text/plain": [
       "'P. Noyes and others, \"Low Level Exposure to the Flame Retardant BDE-209 Reduces Thyroid Hormone Levels and Disrupts Thyroid Signaling in Fathead Minnows\", Environmental Science & Technology, Vol. 47, No. 17 (2013), pp. 10012\\xe2\\x88\\x9210021.\\n'"
      ]
     },
     "execution_count": 4,
     "metadata": {},
     "output_type": "execute_result"
    }
   ],
   "source": [
    "t.decode(\"utf-8\").encode(\"utf-8\")"
   ]
  },
  {
   "cell_type": "code",
   "execution_count": null,
   "metadata": {
    "collapsed": true
   },
   "outputs": [],
   "source": []
  }
 ],
 "metadata": {
  "kernelspec": {
   "display_name": "Python 2",
   "language": "python",
   "name": "python2"
  },
  "language_info": {
   "codemirror_mode": {
    "name": "ipython",
    "version": 3
   },
   "file_extension": ".py",
   "mimetype": "text/x-python",
   "name": "python",
   "nbconvert_exporter": "python",
   "pygments_lexer": "ipython3",
   "version": "3.5.0"
  }
 },
 "nbformat": 4,
 "nbformat_minor": 2
}
