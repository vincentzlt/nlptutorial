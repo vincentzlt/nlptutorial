{
 "cells": [
  {
   "cell_type": "code",
   "execution_count": null,
   "metadata": {
    "collapsed": true
   },
   "outputs": [],
   "source": [
    "import numpy as np\n",
    "import ipdb\n",
    "from collections import defaultdict\n",
    "from pprint import pprint"
   ]
  },
  {
   "cell_type": "code",
   "execution_count": 142,
   "metadata": {
    "collapsed": true
   },
   "outputs": [],
   "source": [
    "idx_dict=defaultdict(lambda:len(idx_dict))\n",
    "phi_dict=defaultdict(int)"
   ]
  },
  {
   "cell_type": "code",
   "execution_count": 143,
   "metadata": {
    "collapsed": true
   },
   "outputs": [],
   "source": [
    "def update_phi(line,isupdate=True):\n",
    "    if isupdate:\n",
    "        for w in line.split():\n",
    "            phi_dict[idx_dict[w]]+=1"
   ]
  },
  {
   "cell_type": "code",
   "execution_count": 144,
   "metadata": {
    "collapsed": true
   },
   "outputs": [],
   "source": [
    "def get_lines_from_file(f_name):\n",
    "    for line in open(f_name, \"r\",encoding=\"utf-8\"):\n",
    "        yield line"
   ]
  },
  {
   "cell_type": "code",
   "execution_count": 145,
   "metadata": {
    "collapsed": true
   },
   "outputs": [],
   "source": [
    "for line in get_lines_from_file(\"../../test/03-train-input.txt\"):\n",
    "    cls, line=line.split(\"\\t\")\n",
    "    update_phi(line)"
   ]
  },
  {
   "cell_type": "code",
   "execution_count": 146,
   "metadata": {
    "collapsed": false,
    "scrolled": false
   },
   "outputs": [
    {
     "name": "stdout",
     "output_type": "stream",
     "text": [
      "defaultdict(<function <lambda> at 0x1055f41e0>,\n",
      "            {',': 2,\n",
      "             'A': 0,\n",
      "             'Kyoto': 6,\n",
      "             'Maizuru': 5,\n",
      "             'Shoken': 7,\n",
      "             'born': 9,\n",
      "             'in': 4,\n",
      "             'located': 3,\n",
      "             'monk': 8,\n",
      "             'site': 1})\n",
      "array(dict_values([1, 1, 3, 1, 2, 1, 2, 1, 1, 1]), dtype=object)\n"
     ]
    }
   ],
   "source": [
    "pprint(idx_dict)\n",
    "phi_array=np.array(phi_dict.values())\n",
    "pprint(phi_array)\n",
    "assert len(idx_dict)==len(phi_dict)"
   ]
  },
  {
   "cell_type": "code",
   "execution_count": 147,
   "metadata": {
    "collapsed": true
   },
   "outputs": [],
   "source": [
    "def gen_training_phi(line):\n",
    "    phi_arrapy_=np.zeros(len(phi_dict))\n",
    "    for w in line.split():\n",
    "        phi_array_[idx_dict[w]]+=1\n",
    "    return phi_array_"
   ]
  },
  {
   "cell_type": "code",
   "execution_count": 148,
   "metadata": {
    "collapsed": false
   },
   "outputs": [
    {
     "name": "stdout",
     "output_type": "stream",
     "text": [
      "[ 1.  1.  2.  1.  1.  1.  1.  0.  0.  0.]\n",
      "[ 0.  0.  1.  0.  1.  0.  1.  1.  1.  1.]\n"
     ]
    }
   ],
   "source": [
    "for line in get_lines_from_file(\"../../test/03-train-input.txt\"):\n",
    "    cls, line=line.split(\"\\t\")\n",
    "    print(gen_training_phi(line))"
   ]
  },
  {
   "cell_type": "code",
   "execution_count": 197,
   "metadata": {
    "collapsed": true
   },
   "outputs": [],
   "source": [
    "def initialize_networks(*num_neurons_network):\n",
    "    num_neurons_prev=len(idx_dict)\n",
    "    ws_network=[]\n",
    "    bs_network=[]\n",
    "    for num_neurons_current in num_neurons_network:\n",
    "        ws_layer=[]\n",
    "        bs_layer=[]\n",
    "        for n in range(num_neurons_current):\n",
    "            ws_v=np.random.rand(num_neurons_prev)\n",
    "            ws_layer.append(ws_v)\n",
    "            bs_layer.append(1)\n",
    "        num_neurons_prev=num_neurons_current\n",
    "        ws_network.append(ws_layer)\n",
    "        bs_network.append(bs_layer)\n",
    "    return ws_network,bs_network\n",
    "        "
   ]
  },
  {
   "cell_type": "code",
   "execution_count": 198,
   "metadata": {
    "collapsed": false
   },
   "outputs": [
    {
     "name": "stdout",
     "output_type": "stream",
     "text": [
      "[[array([ 0.23123685,  0.61761262,  0.79039268,  0.26999489,  0.45111697,\n",
      "        0.05725738,  0.628808  ,  0.36174205,  0.49867506,  0.89518292]),\n",
      "  array([ 0.87139379,  0.64587763,  0.74341105,  0.26843137,  0.86165433,\n",
      "        0.56882469,  0.69224547,  0.83599718,  0.51892731,  0.86453517]),\n",
      "  array([ 0.46889032,  0.04488942,  0.36851191,  0.21869868,  0.77609211,\n",
      "        0.35035053,  0.05367213,  0.60235781,  0.41899452,  0.48016793])],\n",
      " [array([ 0.07445069,  0.32431077,  0.37890312]),\n",
      "  array([ 0.95631306,  0.06186148,  0.38187984])],\n",
      " [array([ 0.41877334,  0.58336451])]]\n",
      "[[1, 1, 1], [1, 1], [1]]\n"
     ]
    }
   ],
   "source": [
    "ws_network,bs_network=initialize_networks(3,2,1)\n",
    "pprint(ws_network)\n",
    "pprint(bs_network)"
   ]
  },
  {
   "cell_type": "code",
   "execution_count": 199,
   "metadata": {
    "collapsed": true
   },
   "outputs": [],
   "source": [
    "def forward_nn(ws_network,bs_network,phi_input):\n",
    "    phi_array_prev=phi_input\n",
    "    phi_network=[]\n",
    "    for idx_layer,ws_layer in enumerate(ws_network):\n",
    "        phi_layer=[]\n",
    "        for idx_v,ws_v in enumerate(ws_layer):\n",
    "            phi_layer.append(np.tanh(np.dot(phi_array_prev,ws_v)+bs_network[idx_layer][idx_v]))\n",
    "        phi_array_prev=phi_layer\n",
    "        phi_network.append(phi_layer)\n",
    "    return phi_network"
   ]
  },
  {
   "cell_type": "code",
   "execution_count": 201,
   "metadata": {
    "collapsed": false
   },
   "outputs": [
    {
     "name": "stdout",
     "output_type": "stream",
     "text": [
      "[[0.99980814758074166, 0.99996769892313575, 0.99877774399779651],\n",
      " [0.94439069527489583, 0.98365548586114948],\n",
      " [0.96179432305318702]]\n"
     ]
    }
   ],
   "source": [
    "phi_network=forward_nn(ws_network,bs_network,gen_training_phi(\"Shoken , monk born in Kyoto\"))\n",
    "pprint(phi_network)"
   ]
  },
  {
   "cell_type": "code",
   "execution_count": 151,
   "metadata": {
    "collapsed": true
   },
   "outputs": [],
   "source": [
    "b=np.array([ 0.44718688,  0.02151068,  0.06308948,  0.01271954,  0.27276764,\n",
    "        0.83212791,  0.4848249 ,  0.03118655,  0.40762504,  0.2842886 ])"
   ]
  },
  {
   "cell_type": "code",
   "execution_count": 152,
   "metadata": {
    "collapsed": false
   },
   "outputs": [
    {
     "data": {
      "text/plain": [
       "2.1973165100000003"
      ]
     },
     "execution_count": 152,
     "metadata": {},
     "output_type": "execute_result"
    }
   ],
   "source": [
    "np.dot(a,b)"
   ]
  },
  {
   "cell_type": "code",
   "execution_count": null,
   "metadata": {
    "collapsed": true
   },
   "outputs": [],
   "source": []
  }
 ],
 "metadata": {
  "kernelspec": {
   "display_name": "Python 3",
   "language": "python",
   "name": "python3"
  },
  "language_info": {
   "codemirror_mode": {
    "name": "ipython",
    "version": 3
   },
   "file_extension": ".py",
   "mimetype": "text/x-python",
   "name": "python",
   "nbconvert_exporter": "python",
   "pygments_lexer": "ipython3",
   "version": "3.5.3"
  }
 },
 "nbformat": 4,
 "nbformat_minor": 2
}
