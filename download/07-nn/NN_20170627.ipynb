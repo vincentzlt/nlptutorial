{
 "cells": [
  {
   "cell_type": "code",
   "execution_count": 1,
   "metadata": {
    "collapsed": true
   },
   "outputs": [],
   "source": [
    "import numpy as np\n",
    "from pprint import pprint\n",
    "import pdir"
   ]
  },
  {
   "cell_type": "code",
   "execution_count": 12,
   "metadata": {},
   "outputs": [],
   "source": [
    "def gen_ids(f_names):\n",
    "    words=[]\n",
    "    labels=[]\n",
    "    for line in open(f_names,\"r\",encoding=\"utf-8\"):\n",
    "        label,sentence=line.split(\"\\t\")\n",
    "        labels.append(int(label))\n",
    "        for w in sentence.split():\n",
    "            words.append(w)\n",
    "    words=set(words)\n",
    "    w_ids={}\n",
    "    \n",
    "    for w in words:\n",
    "        w_ids[w]=len(w_ids)\n",
    "    sentences=[]\n",
    "    for line in open(f_names,\"r\",encoding=\"utf-8\"):\n",
    "        label,sentence=line.split(\"\\t\")\n",
    "        sent=np.zeros(len(w_ids))\n",
    "        for w in sentence.split():\n",
    "            sent[w_ids[w]]+=1\n",
    "        sentences.append(sent)\n",
    "    return w_ids,sentences,labels"
   ]
  },
  {
   "cell_type": "code",
   "execution_count": 17,
   "metadata": {},
   "outputs": [],
   "source": [
    "w_ids,sentences,labels=gen_ids(\"../../test/03-train-input.txt\")"
   ]
  },
  {
   "cell_type": "code",
   "execution_count": 18,
   "metadata": {},
   "outputs": [
    {
     "data": {
      "text/plain": [
       "[array([ 1.,  1.,  1.,  0.,  1.,  0.,  1.,  0.,  1.,  2.]),\n",
       " array([ 0.,  1.,  0.,  1.,  0.,  1.,  0.,  1.,  1.,  1.])]"
      ]
     },
     "execution_count": 18,
     "metadata": {},
     "output_type": "execute_result"
    }
   ],
   "source": [
    "sentences"
   ]
  },
  {
   "cell_type": "code",
   "execution_count": 68,
   "metadata": {
    "code_folding": []
   },
   "outputs": [],
   "source": [
    "class NN():\n",
    "    from pprint import pprint\n",
    "\n",
    "    def __init__(self, input_list, labels, network_dims):\n",
    "        assert len(input_list) == len(labels)\n",
    "\n",
    "        self.input_list = input_list\n",
    "        self.labels = labels\n",
    "        self.network_neuron_outputs = []\n",
    "        self.network_neuron_nets = []\n",
    "\n",
    "        self.network_neuron_derr_net = []\n",
    "        self.netword_neuron_dnet_weight = []\n",
    "\n",
    "        self.network_weights = []\n",
    "\n",
    "        dim_prev = len(input_list[0])\n",
    "        for i in range(len(network_dims)):\n",
    "            dim = network_dims[i]\n",
    "            self.network_weights.append(np.random.rand(dim_prev, dim))\n",
    "            self.network_neuron_outputs.append(np.zeros(dim))\n",
    "            self.network_neuron_nets.append(np.zeros(dim))\n",
    "            self.network_neuron_derr_net.append(np.zeros(dim))\n",
    "            self.netword_neuron_dnet_weight.append(np.zeros(dim))\n",
    "            dim_prev=dim\n",
    "            \n",
    "        self.network = (self.network_neuron_outputs, self.network_neuron_nets,\n",
    "                        self.network_neuron_derr_net,\n",
    "                        self.netword_neuron_dnet_weight)\n",
    "        \n",
    "    def print_network(self):\n",
    "        for w in self.__dict__:\n",
    "            if w.startswith(\"network\"):\n",
    "                print(w)\n",
    "                pprint(self.__dict__[w])\n",
    "                print()\n",
    "\n",
    "    def ff_one(self, input_array):\n",
    "        for idx in range(len(self.network_weights)):\n",
    "            if idx == 0:\n",
    "                outputs_prev = input_array\n",
    "            else:\n",
    "                outputs_prev = self.network_neuron_outputs[idx - 1]\n",
    "            self.network_neuron_nets[idx] = np.dot(outputs_prev,\n",
    "                                                   self.network_weights[idx])\n",
    "            self.network_neuron_outputs[idx] = np.tanh(\n",
    "                self.network_neuron_nets[idx])\n",
    "\n",
    "    def bk_one(self, label):\n",
    "        assert label.shape[0] == 1\n",
    "        for idx, grads in enumerate(reversed(self.network_grads)):\n",
    "            if idx == 0:\n",
    "                err_grad = label - self.network_neurons[-1]"
   ]
  },
  {
   "cell_type": "code",
   "execution_count": 69,
   "metadata": {},
   "outputs": [],
   "source": [
    "nn=NN(sentences,labels,(3,1))"
   ]
  },
  {
   "cell_type": "code",
   "execution_count": 70,
   "metadata": {
    "scrolled": true
   },
   "outputs": [
    {
     "name": "stdout",
     "output_type": "stream",
     "text": [
      "network_weights\n",
      "[array([[ 0.63010516,  0.66083425,  0.1121095 ],\n",
      "       [ 0.79639929,  0.74014279,  0.6474969 ],\n",
      "       [ 0.50913803,  0.23200858,  0.58972893],\n",
      "       [ 0.21049672,  0.90638303,  0.45472865],\n",
      "       [ 0.19972734,  0.17483194,  0.9187023 ],\n",
      "       [ 0.37450293,  0.19746606,  0.18601212],\n",
      "       [ 0.40988596,  0.84041012,  0.62264218],\n",
      "       [ 0.6033717 ,  0.52711194,  0.6221317 ],\n",
      "       [ 0.1932401 ,  0.00944553,  0.40110175],\n",
      "       [ 0.42893511,  0.09306512,  0.53902861]]),\n",
      " array([[ 0.27824949],\n",
      "       [ 0.20751352],\n",
      "       [ 0.57625873]])]\n",
      "\n",
      "network\n",
      "([array([ 0.,  0.,  0.]), array([ 0.])],\n",
      " [array([ 0.,  0.,  0.]), array([ 0.])],\n",
      " [array([ 0.,  0.,  0.]), array([ 0.])],\n",
      " [array([ 0.,  0.,  0.]), array([ 0.])])\n",
      "\n",
      "network_neuron_outputs\n",
      "[array([ 0.,  0.,  0.]), array([ 0.])]\n",
      "\n",
      "network_neuron_derr_net\n",
      "[array([ 0.,  0.,  0.]), array([ 0.])]\n",
      "\n",
      "network_neuron_nets\n",
      "[array([ 0.,  0.,  0.]), array([ 0.])]\n",
      "\n"
     ]
    }
   ],
   "source": [
    "nn.print_network()"
   ]
  },
  {
   "cell_type": "code",
   "execution_count": 74,
   "metadata": {
    "scrolled": true
   },
   "outputs": [],
   "source": [
    "nn.ff_one(nn.input_list[0])"
   ]
  },
  {
   "cell_type": "code",
   "execution_count": 75,
   "metadata": {
    "scrolled": true
   },
   "outputs": [
    {
     "name": "stdout",
     "output_type": "stream",
     "text": [
      "network_weights\n",
      "[array([[ 0.63010516,  0.66083425,  0.1121095 ],\n",
      "       [ 0.79639929,  0.74014279,  0.6474969 ],\n",
      "       [ 0.50913803,  0.23200858,  0.58972893],\n",
      "       [ 0.21049672,  0.90638303,  0.45472865],\n",
      "       [ 0.19972734,  0.17483194,  0.9187023 ],\n",
      "       [ 0.37450293,  0.19746606,  0.18601212],\n",
      "       [ 0.40988596,  0.84041012,  0.62264218],\n",
      "       [ 0.6033717 ,  0.52711194,  0.6221317 ],\n",
      "       [ 0.1932401 ,  0.00944553,  0.40110175],\n",
      "       [ 0.42893511,  0.09306512,  0.53902861]]),\n",
      " array([[ 0.27824949],\n",
      "       [ 0.20751352],\n",
      "       [ 0.57625873]])]\n",
      "\n",
      "network\n",
      "([array([ 0.99849707,  0.99324749,  0.99967984]), array([ 0.78567068])],\n",
      " [array([ 3.59636609,  2.84380345,  4.36983879]), array([ 1.06001782])],\n",
      " [array([ 0.,  0.,  0.]), array([ 0.])],\n",
      " [array([ 0.,  0.,  0.]), array([ 0.])])\n",
      "\n",
      "network_neuron_outputs\n",
      "[array([ 0.99849707,  0.99324749,  0.99967984]), array([ 0.78567068])]\n",
      "\n",
      "network_neuron_derr_net\n",
      "[array([ 0.,  0.,  0.]), array([ 0.])]\n",
      "\n",
      "network_neuron_nets\n",
      "[array([ 3.59636609,  2.84380345,  4.36983879]), array([ 1.06001782])]\n",
      "\n"
     ]
    }
   ],
   "source": [
    "nn.print_network()"
   ]
  },
  {
   "cell_type": "code",
   "execution_count": 57,
   "metadata": {},
   "outputs": [
    {
     "data": {
      "text/plain": [
       "array([ 4.27622422,  3.85662286,  2.56456984])"
      ]
     },
     "execution_count": 57,
     "metadata": {},
     "output_type": "execute_result"
    }
   ],
   "source": [
    "np.dot(a, b)"
   ]
  },
  {
   "cell_type": "code",
   "execution_count": 16,
   "metadata": {},
   "outputs": [
    {
     "data": {
      "text/plain": [
       "(4, 3)"
      ]
     },
     "execution_count": 16,
     "metadata": {},
     "output_type": "execute_result"
    }
   ],
   "source": [
    "c.shape"
   ]
  },
  {
   "cell_type": "code",
   "execution_count": 1,
   "metadata": {
    "collapsed": true
   },
   "outputs": [],
   "source": [
    "t=\"\"\"P. Noyes and others, \"Low Level Exposure to the Flame Retardant BDE-209 Reduces Thyroid Hormone Levels and Disrupts Thyroid Signaling in Fathead Minnows\", Environmental Science & Technology, Vol. 47, No. 17 (2013), pp. 10012−10021.\n",
    "\"\"\""
   ]
  },
  {
   "cell_type": "code",
   "execution_count": 4,
   "metadata": {},
   "outputs": [
    {
     "data": {
      "text/plain": [
       "'P. Noyes and others, \"Low Level Exposure to the Flame Retardant BDE-209 Reduces Thyroid Hormone Levels and Disrupts Thyroid Signaling in Fathead Minnows\", Environmental Science & Technology, Vol. 47, No. 17 (2013), pp. 10012\\xe2\\x88\\x9210021.\\n'"
      ]
     },
     "execution_count": 4,
     "metadata": {},
     "output_type": "execute_result"
    }
   ],
   "source": [
    "t.decode(\"utf-8\").encode(\"utf-8\")"
   ]
  },
  {
   "cell_type": "code",
   "execution_count": null,
   "metadata": {
    "collapsed": true
   },
   "outputs": [],
   "source": []
  }
 ],
 "metadata": {
  "kernelspec": {
   "display_name": "Python 2",
   "language": "python",
   "name": "python2"
  },
  "language_info": {
   "codemirror_mode": {
    "name": "ipython",
    "version": 3
   },
   "file_extension": ".py",
   "mimetype": "text/x-python",
   "name": "python",
   "nbconvert_exporter": "python",
   "pygments_lexer": "ipython3",
   "version": "3.5.0"
  }
 },
 "nbformat": 4,
 "nbformat_minor": 2
}
