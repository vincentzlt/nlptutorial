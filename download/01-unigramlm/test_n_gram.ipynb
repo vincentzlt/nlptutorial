{
 "cells": [
  {
   "cell_type": "code",
   "execution_count": 3,
   "metadata": {
    "collapsed": true
   },
   "outputs": [],
   "source": [
    "import sys\n",
    "from collections import defaultdict\n",
    "from IPython.core.interactiveshell import InteractiveShell\n",
    "InteractiveShell.ast_node_interactivity = \"all\""
   ]
  },
  {
   "cell_type": "code",
   "execution_count": 4,
   "metadata": {
    "collapsed": true
   },
   "outputs": [],
   "source": [
    "def read_n_gram_model(f_name):\n",
    "    n_gram_dict=defaultdict(lambda :0)\n",
    "    with open(f_name,\"r\",encoding=\"UTF-8\") as f:\n",
    "        corpus_lines=f.readlines()\n",
    "    for line in corpus_lines:\n",
    "        _=line.split(\"\\t\")\n",
    "        n_gram_dict[_[0]]=_[1]\n",
    "    return n_gram_dict"
   ]
  },
  {
   "cell_type": "code",
   "execution_count": null,
   "metadata": {
    "collapsed": true
   },
   "outputs": [],
   "source": [
    "def uniq_w_after_n_m1(n_gram_dict):\n",
    "    uniq_w_after_n_m1_dict=defaultdict(lambda :0)\n",
    "    for n_gram in n_gram_dict:\n",
    "        n_m1_gram= \" \".join(n_gram.split()[:-1])\n",
    "        uniq_w_after_n_m1_dict[n_m1_gram]+=1\n",
    "    return uniq_w_after_n_m1_dict\n",
    "        "
   ]
  },
  {
   "cell_type": "code",
   "execution_count": null,
   "metadata": {
    "collapsed": true
   },
   "outputs": [],
   "source": [
    "def "
   ]
  },
  {
   "cell_type": "code",
   "execution_count": null,
   "metadata": {
    "collapsed": true
   },
   "outputs": [],
   "source": [
    "def calc_lambda_n_m1(n_m1_gram, n_gram_dict, uniq_w_after_n_m1_dict):\n",
    "    sum_n_m1=sum(w for w in n_gram_dict if )\n",
    "    _lambda = 1 - (uniq_w_after_n_m1_dict[n_m1_gram]\n",
    "                   ) / float(uniq_w_after_n_m1_dict[n_m1_gram] + sum_n_m1)"
   ]
  },
  {
   "cell_type": "code",
   "execution_count": null,
   "metadata": {
    "collapsed": true
   },
   "outputs": [],
   "source": [
    "def test_n_gram(n_gram,n_gram_dict):\n",
    "    if n_gram in n_gram_dict:\n",
    "        _lambda=get_lambda(n_gram,n_gram_dict)      # n-1 gram lambda\n",
    "        n_gram_P=_lambda*n_gram_dict[n_gram]/n_m1_gram_dict+(1-_lambda)*"
   ]
  },
  {
   "cell_type": "code",
   "execution_count": 5,
   "metadata": {},
   "outputs": [
    {
     "data": {
      "text/plain": [
       "True"
      ]
     },
     "execution_count": 5,
     "metadata": {},
     "output_type": "execute_result"
    }
   ],
   "source": [
    "a=[\"a\",\"b\",\"c\"]\n",
    "b="
   ]
  }
 ],
 "metadata": {
  "kernelspec": {
   "display_name": "Python 3",
   "language": "python",
   "name": "python3"
  },
  "language_info": {
   "codemirror_mode": {
    "name": "ipython",
    "version": 3
   },
   "file_extension": ".py",
   "mimetype": "text/x-python",
   "name": "python",
   "nbconvert_exporter": "python",
   "pygments_lexer": "ipython3",
   "version": "3.5.0"
  }
 },
 "nbformat": 4,
 "nbformat_minor": 2
}
