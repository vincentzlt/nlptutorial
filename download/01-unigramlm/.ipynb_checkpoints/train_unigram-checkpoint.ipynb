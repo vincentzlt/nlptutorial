{
 "cells": [
  {
   "cell_type": "code",
   "execution_count": 1,
   "metadata": {
    "collapsed": true
   },
   "outputs": [],
   "source": [
    "import sys, math\n",
    "from collections import defaultdict"
   ]
  },
  {
   "cell_type": "code",
   "execution_count": 24,
   "metadata": {
    "code_folding": [],
    "collapsed": true
   },
   "outputs": [],
   "source": [
    "def gen_corpus_list(f_name):\n",
    "    with open(f_name, \"r\", encoding=\"UTF-8\") as f:\n",
    "        corpus_list = [line.split() for line in f.readlines()]\n",
    "    for line in corpus_list:\n",
    "        line.append(\"<s/>\")\n",
    "        #line.insert(0, \"<s>\")\n",
    "    return corpus_list"
   ]
  },
  {
   "cell_type": "code",
   "execution_count": 25,
   "metadata": {
    "code_folding": [],
    "collapsed": true
   },
   "outputs": [],
   "source": [
    "def gen_unigram_dict(corpus_list):\n",
    "    unigram_dict=defaultdict(lambda :0)\n",
    "    \n",
    "    for line in corpus_list:\n",
    "        for w in line:\n",
    "            unigram_dict[w]+=1\n",
    "    return unigram_dict"
   ]
  },
  {
   "cell_type": "code",
   "execution_count": 26,
   "metadata": {
    "code_folding": [],
    "collapsed": true
   },
   "outputs": [],
   "source": [
    "def calc_sum_token(corpus_list):\n",
    "    return len([w for line in corpus_list for w in line])"
   ]
  },
  {
   "cell_type": "code",
   "execution_count": 29,
   "metadata": {
    "code_folding": []
   },
   "outputs": [],
   "source": [
    "def calc_unigram_model(corpus_list):\n",
    "\n",
    "    unigram_dict = gen_unigram_dict(corpus_list)\n",
    "    sum_token = calc_sum_token(corpus_list)\n",
    "    \n",
    "    lambda_unigram=0.95\n",
    "    vocab_size=1000000\n",
    "    \n",
    "    for w in unigram_dict:\n",
    "        P_ml=unigram_dict[w]/float(sum_token)\n",
    "\n",
    "        unigram_P=(lambda_unigram*P_ml+(1-lambda_unigram)/vocab_size)\n",
    "        print(w,\"\\t\", P_ml)\n",
    "    return "
   ]
  },
  {
   "cell_type": "code",
   "execution_count": 30,
   "metadata": {},
   "outputs": [
    {
     "name": "stdout",
     "output_type": "stream",
     "text": [
      "a \t 0.25\n",
      "b \t 0.25\n",
      "<s/> \t 0.25\n",
      "c \t 0.125\n",
      "d \t 0.125\n"
     ]
    }
   ],
   "source": [
    "if __name__==\"__main__\":\n",
    "    sys.argv=\"self ../../test/01-train-input.txt\".split()\n",
    "    corpus_list=gen_corpus_list(sys.argv[1])\n",
    "    calc_unigram_model(corpus_list)"
   ]
  },
  {
   "cell_type": "code",
   "execution_count": null,
   "metadata": {
    "collapsed": true
   },
   "outputs": [],
   "source": []
  }
 ],
 "metadata": {
  "kernelspec": {
   "display_name": "Python 3",
   "language": "python",
   "name": "python3"
  },
  "language_info": {
   "codemirror_mode": {
    "name": "ipython",
    "version": 3
   },
   "file_extension": ".py",
   "mimetype": "text/x-python",
   "name": "python",
   "nbconvert_exporter": "python",
   "pygments_lexer": "ipython3",
   "version": "3.5.0"
  }
 },
 "nbformat": 4,
 "nbformat_minor": 2
}
