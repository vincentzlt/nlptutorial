{
 "cells": [
  {
   "cell_type": "code",
   "execution_count": 16,
   "metadata": {
    "collapsed": true
   },
   "outputs": [],
   "source": [
    "import sys,pprint,math\n",
    "from collections import defaultdict"
   ]
  },
  {
   "cell_type": "code",
   "execution_count": 17,
   "metadata": {
    "collapsed": false
   },
   "outputs": [],
   "source": [
    "class pos_HMM(object):\n",
    "    def __init__(self,f_name):\n",
    "        \n",
    "        self.w_pos_freq=defaultdict(lambda:0)\n",
    "        self.pos_2gram_freq={   # contains both 1 and 2 gram frequency\n",
    "            1:defaultdict(lambda:0),\n",
    "            2:defaultdict(lambda:0)\n",
    "        }\n",
    "        \n",
    "        \n",
    "        for line in open(f_name, \"r\", encoding=\"UTF-8\"):  \n",
    "            # count all the w_pos pair freq, and 1 and 2 gram freq\n",
    "            line=\"<s>_<s> \"+ line.replace(\"\\n\",\"\") + \" </s>_</s>\"\n",
    "            tags=[]\n",
    "            tags[:]=[]\n",
    "            for p in line.split():\n",
    "                w,tag =p.split(\"_\")\n",
    "                self.w_pos_freq[(w,tag)]+=1\n",
    "                self.pos_2gram_freq[1][tag]+=1\n",
    "                tags.append(tag)\n",
    "            for bigram in zip(tags, tags[1:]):\n",
    "                self.pos_2gram_freq[2][bigram]+=1\n",
    "        \n",
    "    def calc_transmission_P(self, tag, tag_prev):      \n",
    "        # calculate the transmission P based on the 1 and 2 gram freq dict, no smoothing is needed\n",
    "        P=self.pos_2gram_freq[2][(tag_prev,tag)]/float(self.pos_2gram_freq[1][tag_prev])\n",
    "        return P   #  output can be 0 if check unseen sequence\n",
    "    \n",
    "    def calc_emission_P(self, tag, w, lambda_=0.95, vocab_size=1000000):\n",
    "        # calculate the emission P based on the w_pos freq dictionary, smoothing is needed\n",
    "        P=lambda_*self.w_pos_freq[(w,tag)]/float(self.pos_2gram_freq[1][tag])+(1-lambda_)/vocab_size\n",
    "        return P\n",
    "    \n",
    "    def gen_pos_tags(self, line_str):\n",
    "        # generate pos tag list using viterbi matrix and viterbi algo\n",
    "        \n",
    "        # generate viterbi matrix: best_score (init with 1000000) and best_prev_node (init with empty value)\n",
    "        line_str=\"<s> \"+line_str+\" </s>\"\n",
    "        best_score=dict()\n",
    "        best_prev_node=dict()\n",
    "        for ind,w in enumerate(line_str.split()):\n",
    "            best_score[(ind,w)]=dict()\n",
    "            best_prev_node[(ind,w)]=dict()\n",
    "            if w==\"<s>\":\n",
    "                best_score[(ind,w)][(ind,\"<s>\")]=0\n",
    "                best_prev_node[(ind,w)][(ind,\"<s>\")]=None\n",
    "            elif w==\"</s>\":\n",
    "                best_score[(ind,w)][(ind,\"</s>\")]=1000000.0\n",
    "                best_prev_node[(ind,w)][(ind,\"</s>\")]=(0,\"\")\n",
    "            else:\n",
    "                tags=[t for t in self.pos_2gram_freq[1] if t != \"<s>\" and t != \"</s>\"]\n",
    "                for t in tags:\n",
    "                    best_score[(ind,w)][(ind,t)]=1000000.0\n",
    "                    best_prev_node[(ind,w)][(ind,t)]=(0,\"\")\n",
    "        #pprint.pprint(best_score)\n",
    "        #pprint.pprint(best_prev_node)\n",
    "        \n",
    "        # forward step: calculate best socre and prev node on each node\n",
    "        line_list=line_str.split()\n",
    "        for ind, w in enumerate(line_list):\n",
    "            if ind==0:\n",
    "                pass\n",
    "            \n",
    "            else:\n",
    "                w_prev=line_list[ind-1]\n",
    "                for ind_, tag in best_score[ind,w]:\n",
    "                    for ind_prev,tag_prev in best_score[ind-1,w_prev]:\n",
    "                        trans_P=self.calc_transmission_P(tag,tag_prev)\n",
    "                        emis_P=self.calc_emission_P(tag,w)\n",
    "                        if trans_P!=0:\n",
    "                            score=-math.log(trans_P)+ -math.log(emis_P)\n",
    "                        else:\n",
    "                            score=100000.0\n",
    "                        score+=best_score[(ind_prev,w_prev)][(ind_prev,tag_prev)]\n",
    "                        if score<best_score[(ind,w)][(ind,tag)]:\n",
    "                            best_score[(ind,w)][(ind,tag)]=score\n",
    "                            best_prev_node[(ind,w)][(ind,tag)]=(ind_prev,tag_prev)\n",
    "        #pprint.pprint(best_score)\n",
    "        #pprint.pprint(best_prev_node)\n",
    "        \n",
    "        # backword step:\n",
    "        ind=len(line_list)-1\n",
    "        w=line_list[ind]\n",
    "        tag=\"</s>\"\n",
    "        #print(ind,w,tag)\n",
    "        #input()\n",
    "        \n",
    "        pos_tags=[]\n",
    "        while best_prev_node[ind,w][ind,tag]:\n",
    "            ind,tag=best_prev_node[ind,w][ind,tag]\n",
    "            pos_tags.append(tag)\n",
    "            w=line_list[ind]\n",
    "            \n",
    "            \n",
    "        pos_tags.reverse()\n",
    "        \n",
    "        \n",
    "        return \" \".join(pos_tags[1:])\n",
    "    def gen_POS_tags_f(self, f_name):\n",
    "        # call the self.gen_POS_tag function line by line given the input file\n",
    "        output=[]\n",
    "        for line in open(f_name,\"r\",encoding=\"UTF-8\"):\n",
    "            output.append(self.gen_pos_tags(line)+\"\\n\")\n",
    "        return output\n",
    "    "
   ]
  },
  {
   "cell_type": "code",
   "execution_count": 18,
   "metadata": {
    "collapsed": false
   },
   "outputs": [],
   "source": [
    "temp_model=pos_HMM(\"./wiki-en-train.norm_pos\")"
   ]
  },
  {
   "cell_type": "code",
   "execution_count": 21,
   "metadata": {
    "collapsed": false
   },
   "outputs": [],
   "source": [
    "file_to_tag=[\"./wiki-en-train.norm\",\"./wiki-en-test.norm\"]\n",
    "for f in file_to_tag:\n",
    "    with open(\"my-answer_\"+f[2:],\"w\",encoding=\"UTF-8\") as output_f:\n",
    "        output_f.writelines(temp_model.gen_POS_tags_f(f))"
   ]
  },
  {
   "cell_type": "code",
   "execution_count": null,
   "metadata": {
    "collapsed": false
   },
   "outputs": [],
   "source": [
    "temp_model.pos_2gram_freq[1]"
   ]
  },
  {
   "cell_type": "code",
   "execution_count": null,
   "metadata": {
    "collapsed": false
   },
   "outputs": [],
   "source": [
    "print(temp_model.calc_transmission_P(\"CC\",\"CC\"))"
   ]
  },
  {
   "cell_type": "code",
   "execution_count": null,
   "metadata": {
    "collapsed": false
   },
   "outputs": [],
   "source": [
    "print(temp_model.calc_emission_P(\"NN\",\"rea\"))"
   ]
  },
  {
   "cell_type": "code",
   "execution_count": null,
   "metadata": {
    "collapsed": false
   },
   "outputs": [],
   "source": [
    "pprint.pprint(temp_model.w_pos_freq)"
   ]
  },
  {
   "cell_type": "code",
   "execution_count": null,
   "metadata": {
    "collapsed": true
   },
   "outputs": [],
   "source": []
  }
 ],
 "metadata": {
  "kernelspec": {
   "display_name": "Python 3",
   "language": "python",
   "name": "python3"
  },
  "language_info": {
   "codemirror_mode": {
    "name": "ipython",
    "version": 3
   },
   "file_extension": ".py",
   "mimetype": "text/x-python",
   "name": "python",
   "nbconvert_exporter": "python",
   "pygments_lexer": "ipython3",
   "version": "3.6.0"
  }
 },
 "nbformat": 4,
 "nbformat_minor": 2
}
