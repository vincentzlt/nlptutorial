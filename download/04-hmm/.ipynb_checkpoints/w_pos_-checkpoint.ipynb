{
 "cells": [
  {
   "cell_type": "code",
   "execution_count": 105,
   "metadata": {
    "collapsed": true
   },
   "outputs": [],
   "source": [
    "import sys,pprint,math\n",
    "from collections import  defaultdict"
   ]
  },
  {
   "cell_type": "code",
   "execution_count": 106,
   "metadata": {
    "code_folding": [],
    "collapsed": false
   },
   "outputs": [],
   "source": [
    "\n",
    "class w_pos():\n",
    "\n",
    "    def __init__(self, f_name):\n",
    "        self.pos_freq = {1: defaultdict(lambda: 0), 2: defaultdict(lambda: 0)}\n",
    "        self.w_pos_freq = defaultdict(lambda: 0)\n",
    "\n",
    "        for line in open(f_name, \"r\", encoding=\"UTF-8\"):\n",
    "            line = \"<s>_<s> \" + line.replace(\"\\n\", \"\") + \" </s>_</s>\"\n",
    "            pos_line = []\n",
    "            for w_pos in line.split(\" \"):\n",
    "                w_, pos_ = w_pos.split(\"_\")\n",
    "                pos_line.append(pos_)\n",
    "                self.w_pos_freq[w_pos] += 1\n",
    "            for pos_ in pos_line:\n",
    "                self.pos_freq[1][pos_] += 1\n",
    "            for pos_ in zip(pos_line, pos_line[1:]):\n",
    "                self.pos_freq[2][\" \".join(pos_)] += 1\n",
    "\n",
    "        self.pos_transission_matrice = dict()\n",
    "\n",
    "        for i in self.pos_freq[1]:\n",
    "            self.pos_transission_matrice[i] = dict()\n",
    "            for j in self.pos_freq[1]:\n",
    "                self.pos_transission_matrice[i][\n",
    "                    j] = self.calc_HMM_transition_P(j, i)\n",
    "\n",
    "    def calc_HMM_transition_P(self, y_i, y_prev):\n",
    "        return self.pos_freq[2][y_prev + \" \" + y_i] / float(self.pos_freq[1][\n",
    "            y_prev])\n",
    "\n",
    "    def calc_HMM_emission_P(self, w, tag):\n",
    "        lambda_ = 0.91\n",
    "        vocab_size = 10000000\n",
    "        P = self.w_pos_freq[w + \"_\" + tag] / float(self.pos_freq[1][tag])\n",
    "        return lambda_ * P + (1 - lambda_) / float(vocab_size)\n",
    "\n",
    "    def calc_POS_viterbi(self, line_str):\n",
    "        line = line_str.split(\" \")\n",
    "        line.append(\"</s>\")\n",
    "        line.insert(0, \"<s>\")\n",
    "        len_line = len(line)\n",
    "        best_score = dict()\n",
    "        best_node = dict()\n",
    "        n_ = 0\n",
    "        for w_ in line:\n",
    "            w = str(n_) + \"_\" + w_\n",
    "\n",
    "            best_score[w] = dict()\n",
    "            best_node[w] = dict()\n",
    "            if w_ == \"<s>\":\n",
    "                best_score[w][str(n_) + \"_<s>\"] = 0\n",
    "                best_node[w][str(n_) + \"_<s>\"] = None\n",
    "            elif w_ == \"</s>\":\n",
    "                best_score[w][str(n_) + \"_</s>\"] = 1000000.0\n",
    "                best_node[w][str(n_) + \"_</s>\"] = 0\n",
    "            else:\n",
    "                for tag in self.pos_freq[1]:\n",
    "                    if tag != \"<s>\" and tag != \"</s>\":\n",
    "                        best_score[w][str(n_) + \"_\" + tag] = 1000000.0\n",
    "                        best_node[w][str(n_) + \"_\" + tag] = 0\n",
    "            n_ += 1\n",
    "        #pprint.pprint(best_score)\n",
    "        #pprint.pprint(best_node)\n",
    "        n_ = 1\n",
    "        for w, w_prev in zip(line[1:], line):\n",
    "            for tag_ in best_score[str(n_) + \"_\" + w]:\n",
    "                tag = tag_.split(\"_\")[1]\n",
    "                for tag_prev_ in best_score[str(n_ - 1) + \"_\" + w_prev]:\n",
    "                    tag_prev = tag_prev_.split(\"_\")[1]\n",
    "\n",
    "                    pos_trans_P = self.calc_HMM_transition_P(tag, tag_prev)\n",
    "                    pos_emiss_P = self.calc_HMM_emission_P(w, tag)\n",
    "                    if pos_trans_P == 0 and pos_emiss_P == 0:\n",
    "                        _ = 0\n",
    "                    elif pos_trans_P == 0:\n",
    "                        _ = -math.log(pos_emiss_P)\n",
    "                    elif pos_emiss_P == 0:\n",
    "                        _ = -math.log(pos_trans_P)\n",
    "                    else:\n",
    "                        _ = -math.log(pos_trans_P) - math.log(pos_emiss_P)\n",
    "                    if _ < best_score[str(n_) + \"_\" + w][str(n_) + \"_\" + tag]:\n",
    "                        best_score[str(n_) + \"_\" + w][str(n_) + \"_\" + tag] = _\n",
    "                        best_node[str(n_) + \"_\" + w][str(n_) +\n",
    "                                                     \"_\" + tag] = str(n_ - 1) + \"_\" + tag_prev\n",
    "            n_ += 1\n",
    "        #pprint.pprint(best_score)\n",
    "        #pprint.pprint(best_node)\n",
    "        n_ -= 1\n",
    "        tags = []\n",
    "        next_node = best_node[str(n_) + \"_</s>\"][str(n_) + \"_</s>\"]\n",
    "        while next_node != \"0_<s>\":\n",
    "            n_-=1\n",
    "            ind, tag = next_node.split(\"_\")\n",
    "            tags.append(tag)\n",
    "\n",
    "            next_node = best_node[str(n_) + \"_\" + line[int(ind)]][next_node]\n",
    "        tags.reverse()\n",
    "        return \" \".join(tags)\n",
    "\n",
    "\n"
   ]
  },
  {
   "cell_type": "code",
   "execution_count": 107,
   "metadata": {
    "collapsed": true
   },
   "outputs": [],
   "source": [
    "temp=w_pos(f_name=\"./wiki-en-train.norm_pos\")"
   ]
  },
  {
   "cell_type": "code",
   "execution_count": 109,
   "metadata": {
    "collapsed": false,
    "scrolled": true
   },
   "outputs": [
    {
     "data": {
      "text/plain": [
       "'-LRB- -RRB- -LRB- . JJ'"
      ]
     },
     "execution_count": 109,
     "metadata": {},
     "output_type": "execute_result"
    }
   ],
   "source": [
    "temp.calc_POS_viterbi(\"I am a student .\")"
   ]
  },
  {
   "cell_type": "code",
   "execution_count": 98,
   "metadata": {
    "collapsed": false
   },
   "outputs": [
    {
     "data": {
      "text/plain": [
       "[3, 2, 1]"
      ]
     },
     "execution_count": 98,
     "metadata": {},
     "output_type": "execute_result"
    }
   ],
   "source": [
    "a = [1, 2, 3]\n",
    "a.reverse()\n",
    "a"
   ]
  },
  {
   "cell_type": "code",
   "execution_count": null,
   "metadata": {
    "collapsed": true
   },
   "outputs": [],
   "source": []
  }
 ],
 "metadata": {
  "kernelspec": {
   "display_name": "Python 3",
   "language": "python",
   "name": "python3"
  },
  "language_info": {
   "codemirror_mode": {
    "name": "ipython",
    "version": 3
   },
   "file_extension": ".py",
   "mimetype": "text/x-python",
   "name": "python",
   "nbconvert_exporter": "python",
   "pygments_lexer": "ipython3",
   "version": "3.6.0"
  }
 },
 "nbformat": 4,
 "nbformat_minor": 2
}
