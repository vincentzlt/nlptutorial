{
 "cells": [
  {
   "cell_type": "code",
   "execution_count": 41,
   "metadata": {
    "collapsed": true
   },
   "outputs": [],
   "source": [
    "import numpy as np\n",
    "from pprint import pprint\n",
    "import pdir"
   ]
  },
  {
   "cell_type": "code",
   "execution_count": 42,
   "metadata": {
    "code_folding": [
     0
    ]
   },
   "outputs": [],
   "source": [
    "def softmax(x):\n",
    "    \"\"\"Compute softmax values for each sets of scores in x.\"\"\"\n",
    "    e_x = np.exp(x - np.max(x))\n",
    "    return e_x / e_x.sum()"
   ]
  },
  {
   "cell_type": "code",
   "execution_count": 46,
   "metadata": {
    "collapsed": true
   },
   "outputs": [],
   "source": [
    "def gen_ids(f_name):\n",
    "    x=[]\n",
    "    y=[]\n",
    "    for line in open(f_name,\"r\",encoding=\"utf-8\"):\n",
    "        for w in line.split():\n",
    "            x_,y_=w.split(\"_\")\n",
    "            x.append(x_)\n",
    "            y.append(y_)\n",
    "    x=set(x)\n",
    "    y=set(y)\n",
    "    x_ids={}\n",
    "    y_ids={}\n",
    "    for i in x:\n",
    "        x_ids[i]=len(x_ids)\n",
    "    for i in y:\n",
    "        y_ids[i]=len(y_ids)\n",
    "    x=[]\n",
    "    y=[]\n",
    "    for line in open(f_name,\"r\",encoding=\"utf-8\"):\n",
    "        x_line=[]\n",
    "        y_line=[]\n",
    "        for w in line.split():\n",
    "            x_,y_=w.split(\"_\")\n",
    "            x_line.append(x_ids[x_])\n",
    "            y_line.append(y_ids[y_])\n",
    "        x.append(x_line)\n",
    "        y.append(y_line)\n",
    "    return x_ids,y_ids,x,y\n",
    "            "
   ]
  },
  {
   "cell_type": "code",
   "execution_count": 47,
   "metadata": {
    "collapsed": true
   },
   "outputs": [],
   "source": [
    "x_ids,y_ids,x,y=gen_ids(\"../../test/05-train-input.txt\")"
   ]
  },
  {
   "cell_type": "code",
   "execution_count": 48,
   "metadata": {},
   "outputs": [],
   "source": [
    "print(x_ids,y_ids,file=open(\"ids.file\",\"w\"))"
   ]
  },
  {
   "cell_type": "code",
   "execution_count": 68,
   "metadata": {
    "code_folding": [
     10,
     17,
     23,
     36
    ]
   },
   "outputs": [],
   "source": [
    "class RNN():\n",
    "    def __init__(self,Xs,Ys):\n",
    "        self.Xs=Xs\n",
    "        self.Ys=Ys\n",
    "        self.w_rx=np.random.rand(len(Xs))\n",
    "        self.w_rh=np.random.rand(len(Xs))\n",
    "        self.b_r=np.random.rand(len(Xs))\n",
    "        self.w_oh=np.random.rand(len(Xs))\n",
    "        self.b_o=np.random.rand(len(Xs))\n",
    "        self.net=(self.w_rx,self.w_rh,self.b_r,self.w_oh,self.b_o)\n",
    "    def find_best(self,ps):\n",
    "        assert isinstance(ps,list)\n",
    "        y=0\n",
    "        for idx, i in enumerate(ps):\n",
    "            if ps[y]<ps[i]:\n",
    "                y=i\n",
    "        return y\n",
    "    def create_one_hot(self,hot_id,size):\n",
    "        assert isinstance(hot_id,int)\n",
    "        assert isinstance(size,int)\n",
    "        vec=np.zeros(size)\n",
    "        vec[hot_id]=1\n",
    "        return vec\n",
    "    def forward_rnn(self,w_rx,w_rh,b_r,w_oh,b_o,x):\n",
    "        assert w_rx.shape[1]==x.shape[0]\n",
    "        h=[]\n",
    "        p=[]\n",
    "        y=[]\n",
    "        for t in range(len(x)):\n",
    "            if t>0:\n",
    "                h[t]=np.tanh(np.matmul(w_rx,x[t])+np.matmul(w_rh,h[t-1])+b_r)\n",
    "            else:\n",
    "                h[t]=np.tanh(np.matmul(w_rx,x[t])+b_r)\n",
    "            p[t]=np.tanh(w_oh,h[t])\n",
    "            y[t]=self.find_best(p[t])\n",
    "        return h,p,y\n",
    "    def gradient_rnn(self,w_rx,w_rh,b_r,w_oh,b_o,x,h,p,y_):\n",
    "        dw_rx=0\n",
    "        dw_rh=0\n",
    "        db_r=0\n",
    "        dw_oh=0\n",
    "        db_o=0\n",
    "        \n",
    "        err_r_=np.zeros(len(b_r))\n",
    "        \n",
    "        for t in reversed(range(len(x))):\n",
    "            p_=self.create_one_hot(y_[t])\n",
    "            err_o_=p_-p[t]\n",
    "            dw_oh+=np.outer(h[t],err_o_)\n",
    "            db_o+=err_o_\n",
    "            err_r=np.dot(err_r_,w_rh)+np.dot(err_o_,w_oh)\n",
    "            err_r_=err_r*(1-h[t]**2)\n",
    "            dw_rx+=np.outer(x[t],err_r_)\n",
    "            db_r+=err_r_\n",
    "            if t!=0:\n",
    "                dw_rh+=np.outer(h[t-1],err_r_)\n",
    "        return dw_rx,dw_rh,db_r, dw_oh, db_o\n",
    "    def update_weights(self,w_rx,w_rh,b_r,w_oh,b_o,dw_rx,dw_rh,db_r,dw_oh,db_o,lrate=0.01):\n",
    "        w_rx+=lrate*dw_rx\n",
    "        w_rh+=lrate*dw_rh\n",
    "        b_r+=lrate*db_r\n",
    "        w_oh+=lrate*dw_oh\n",
    "        b_o+=lrate*db_o\n",
    "        return w_rx, w_rh,b_r,w_oh,b_o\n",
    "    def train(self):\n",
    "        for i in range(10):\n",
    "            for x,y_ in zip(self.Xs,self.Ys):\n",
    "                h,p,y=self.forward_rnn(*self.net,x)\n",
    "                delta=self.gradient_rnn(*self.net,x,h,y_)\n",
    "                self.w_rx,self.w_rh,self.b_r,self.w_oh,self.b_o=self.update_weights(*self.net,*delta,lrate=0.1)\n",
    "        print(*self.net, file=open(\"weight.file\",\"w\"))"
   ]
  },
  {
   "cell_type": "code",
   "execution_count": null,
   "metadata": {
    "collapsed": true
   },
   "outputs": [],
   "source": []
  },
  {
   "cell_type": "code",
   "execution_count": 69,
   "metadata": {
    "collapsed": true
   },
   "outputs": [],
   "source": [
    "rnn=RNN(x,y)"
   ]
  },
  {
   "cell_type": "code",
   "execution_count": 70,
   "metadata": {},
   "outputs": [
    {
     "data": {
      "text/plain": [
       "(array([ 0.6050155 ,  0.89889129]),\n",
       " array([ 0.91863307,  0.76653638]),\n",
       " array([ 0.16712933,  0.73272832]),\n",
       " array([ 0.85187157,  0.47761114]),\n",
       " array([ 0.97648058,  0.77078138]))"
      ]
     },
     "execution_count": 70,
     "metadata": {},
     "output_type": "execute_result"
    }
   ],
   "source": [
    "rnn.net"
   ]
  },
  {
   "cell_type": "code",
   "execution_count": 71,
   "metadata": {},
   "outputs": [
    {
     "data": {
      "text/plain": [
       "<bound method RNN.train of <__main__.RNN object at 0x1051cba58>>"
      ]
     },
     "execution_count": 71,
     "metadata": {},
     "output_type": "execute_result"
    }
   ],
   "source": [
    "rnn.train"
   ]
  },
  {
   "cell_type": "code",
   "execution_count": 72,
   "metadata": {},
   "outputs": [
    {
     "data": {
      "text/plain": [
       "(array([ 0.6050155 ,  0.89889129]),\n",
       " array([ 0.91863307,  0.76653638]),\n",
       " array([ 0.16712933,  0.73272832]),\n",
       " array([ 0.85187157,  0.47761114]),\n",
       " array([ 0.97648058,  0.77078138]))"
      ]
     },
     "execution_count": 72,
     "metadata": {},
     "output_type": "execute_result"
    }
   ],
   "source": [
    "rnn.net"
   ]
  },
  {
   "cell_type": "code",
   "execution_count": null,
   "metadata": {
    "collapsed": true
   },
   "outputs": [],
   "source": []
  }
 ],
 "metadata": {
  "kernelspec": {
   "display_name": "Python 3",
   "language": "python",
   "name": "python3"
  },
  "language_info": {
   "codemirror_mode": {
    "name": "ipython",
    "version": 3
   },
   "file_extension": ".py",
   "mimetype": "text/x-python",
   "name": "python",
   "nbconvert_exporter": "python",
   "pygments_lexer": "ipython3",
   "version": "3.5.0"
  }
 },
 "nbformat": 4,
 "nbformat_minor": 2
}
