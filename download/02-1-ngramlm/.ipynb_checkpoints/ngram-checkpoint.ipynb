{
 "cells": [
  {
   "cell_type": "code",
<<<<<<< HEAD
   "execution_count": 11,
=======
   "execution_count": 9,
>>>>>>> cfeae39eb474acebb0bd83823296b43763be33a6
   "metadata": {
    "collapsed": true
   },
   "outputs": [],
   "source": [
    "import sys,math,pprint, subprocess\n",
    "from collections import defaultdict\n"
   ]
  },
  {
   "cell_type": "code",
<<<<<<< HEAD
   "execution_count": 45,
   "metadata": {
    "collapsed": false
=======
   "execution_count": 10,
   "metadata": {
    "collapsed": true
>>>>>>> cfeae39eb474acebb0bd83823296b43763be33a6
   },
   "outputs": [],
   "source": [
    "class ngram:\n",
    "    def __init__(self, f_name, n=1):\n",
    "        self.n = n\n",
    "        self.frq_dict = {}\n",
    "        self.vocab_size_dict = defaultdict(lambda: 0)\n",
    "\n",
    "        for i in range(self.n):\n",
    "            self.frq_dict[str(i + 1)] = defaultdict(lambda: 0)\n",
    "\n",
    "        for line in open(f_name, \"r\", encoding=\"UTF-8\"):\n",
    "            line = line.split()\n",
    "            line.append(\"</s>\")\n",
    "            line.insert(0, \"<s>\")\n",
    "            for i in range(self.n):\n",
    "                _line_tp = self.line_tp(line, i + 1)\n",
    "                for j in _line_tp:\n",
    "                    self.frq_dict[str(i + 1)][\" \".join(j)] += 1\n",
    "\n",
    "        for i in range(self.n):\n",
    "            for w in self.frq_dict[str(i + 1)]:\n",
    "                self.vocab_size_dict[str(i + 1)] += self.frq_dict[str(i + 1)][\n",
    "                    w]\n",
    "\n",
    "    def line_tp(self, line, n):\n",
    "        _tp_list = []\n",
    "        len_line = len(line)\n",
    "        for i in range(n):\n",
    "            _tp_list.append(line[i:len_line - n + i + 1])\n",
    "        return list(zip(*_tp_list))\n",
    "\n",
    "    def calc_ngram_P(self, ngram_str):\n",
    "        n = len(ngram_str.split())\n",
    "        ngram_str_m1 = \" \".join(ngram_str.split()[:-1])\n",
    "        if n == 1:\n",
    "            lambda_ = 0.95\n",
    "            vocab_size = 1000000\n",
    "            P = self.frq_dict[str(n)][ngram_str] / float(self.vocab_size_dict[\n",
    "                str(n)])\n",
    "            return lambda_ * P + (1 - lambda_) / vocab_size\n",
    "        else:\n",
    "            lambda_n_m1 = self.calc_lambda_n_m1(ngram_str)\n",
    "            try:\n",
    "                P = self.frq_dict[str(n)][ngram_str] / float(self.frq_dict[str(\n",
    "                    n)][ngram_str_m1])\n",
    "            except ZeroDivisionError:\n",
<<<<<<< HEAD
    "                P = 0\n",
    "            return lambda_n_m1 * P + (\n",
    "                1 - lambda_n_m1) * self.calc_ngram_P(ngram_str.split()[-1])\n",
    "\n",
    "    def calc_lambda_n_m1(self, ngram_str):\n",
    "\n",
    "        n = len(ngram_str.split())\n",
    "        try:\n",
    "            c_w_m1_freq = self.frq_dict[str(n)][ngram_str]\n",
    "        except KeyError:\n",
    "            print(ngram_str)\n",
    "            input()\n",
    "        ngram_str_m1 = \" \".join(ngram_str.split()[:-1])\n",
    "\n",
    "        u_w_m1_count = len(\n",
    "            set([\n",
    "                u for u in self.frq_dict[str(n)]\n",
    "                if u.split()[:-1] == ngram_str.split()[:-1]\n",
    "            ]))\n",
    "        return 1 - u_w_m1_count / float(u_w_m1_count + c_w_m1_freq)\n",
    "\n",
    "    def word_seg_viterbi(self, line, n_gram_model=1):\n",
    "        line = line.replace(\"\\n\", \"\")\n",
    "        len_line = len(line)\n",
    "        best_edge = [None] * (len_line + 1)\n",
    "        best_score = [0] * (len_line + 1)\n",
    "        ng_list = list(self.frq_dict[str(n_gram_model)].keys())\n",
    "\n",
    "        for w_end in range(1, len_line + 1):\n",
    "            best_score[w_end] = 10000000000\n",
    "            for w_begin in range(0, w_end):\n",
    "                if n_gram_model==1:\n",
    "                    word = line[w_begin:w_end]\n",
    "                else:\n",
    "                    word = \" \".join(line[w_begin:w_end])\n",
    "                if (word in ng_list or len(word) == 1) and word:\n",
    "                    P_log_ng = -math.log(self.calc_ngram_P(word))\n",
    "                    score_ = best_score[w_begin] + P_log_ng\n",
    "                    if score_ < best_score[w_end]:\n",
    "                        best_score[w_end] = score_\n",
    "                        best_edge[w_end] = (w_begin, w_end)\n",
    "        words = []\n",
    "        next_edge = best_edge[len(best_edge) - 1]\n",
=======
    "                P=0\n",
    "            return lambda_n_m1*P+(1-lambda_n_m1)*self.calc_ngram_P(ngram_str.split()[-1])\n",
    "            \n",
    "    def calc_lambda_n_m1(self,ngram_str):\n",
    "        \n",
    "        n=len(ngram_str.split())\n",
    "        try:\n",
    "            c_w_m1_freq=self.frq_dict[str(n)][ngram_str]\n",
    "        except KeyError:\n",
    "            print(ngram_str)\n",
    "            input()\n",
    "        ngram_str_m1=\" \".join(ngram_str.split()[:-1])\n",
    "        \n",
    "        u_w_m1_count= len(set([u for u in self.frq_dict[str(n)] if u.split()[:-1]==ngram_str.split()[:-1]]))\n",
    "        return 1-u_w_m1_count/float(u_w_m1_count+c_w_m1_freq)\n",
    "    \n",
    "    def word_seg_viterbi(self,line,n_gram_model=1):\n",
    "        line=line.replace(\"\\n\",\"\")\n",
    "        len_line=len(line)\n",
    "        best_edge=[None]*(len_line+1)\n",
    "        best_score=[0]*(len_line+1)\n",
    "        ng_list=list(self.frq_dict[str(n_gram_model)].keys())\n",
    "        \n",
    "        for w_end in range(1,len_line+1):\n",
    "            best_score[w_end]=10000000000\n",
    "            for w_begin in range(0,w_end):\n",
    "                word=line[w_begin:w_end]\n",
    "                if (word in ng_list or len(word)==1) and word:\n",
    "                    P_log_ng=-math.log(self.calc_ngram_P(word))\n",
    "                    score_=best_score[w_begin]+P_log_ng\n",
    "                    if score_<best_score[w_end]:\n",
    "                        best_score[w_end]=score_\n",
    "                        best_edge[w_end]=(w_begin,w_end)\n",
    "        words=[]\n",
    "        next_edge=best_edge[len(best_edge)-1]\n",
>>>>>>> cfeae39eb474acebb0bd83823296b43763be33a6
    "        while next_edge:\n",
    "            word = line[next_edge[0]:next_edge[1]]\n",
    "            words.append(word)\n",
    "            next_edge = best_edge[next_edge[0]]\n",
    "        words.reverse()\n",
    "        return words\n",
<<<<<<< HEAD
    "\n",
    "    def word_seg_viterbi_file(self, f_name, n_gram_model=1):\n",
    "        __ = []\n",
    "        for line in open(f_name, \"r\", encoding=\"UTF-8\"):\n",
    "            _ = self.word_seg_viterbi(line.replace(\"　\", \"\"),n_gram_model)\n",
    "            __.append(\" \".join(_) + \"\\n\")\n",
    "        return __"
   ]
  },
  {
   "cell_type": "code",
   "execution_count": 51,
   "metadata": {
    "collapsed": true
   },
   "outputs": [],
   "source": [
    "_=ngram(\"./wiki-ja-test.unigram\",4)"
   ]
  },
  {
   "cell_type": "code",
   "execution_count": 52,
   "metadata": {
    "collapsed": false
   },
   "outputs": [],
   "source": [
    "for i in range(1,5):\n",
    "    with open(\"my-seg-ng\"+str(i)+\".unigram\",\"w\",encoding=\"UTF-8\") as f:\n",
    "        f.writelines(_.word_seg_viterbi_file(\"./wiki-ja-test.txt\", n_gram_model=i))"
=======
    "    \n",
    "    def word_seg_viterbi_file(self,f_name,n_gram_model=1):\n",
    "        for line in open(f_name,\"r\",encoding=\"UTF-8\"):\n",
    "            _=self.word_seg_viterbi(line.replace(\"　\",\"\"))\n",
    "            print(\" \".join(_))\n"
>>>>>>> cfeae39eb474acebb0bd83823296b43763be33a6
   ]
  },
  {
   "cell_type": "code",
<<<<<<< HEAD
   "execution_count": 53,
   "metadata": {
    "collapsed": false
   },
=======
   "execution_count": 11,
   "metadata": {},
>>>>>>> cfeae39eb474acebb0bd83823296b43763be33a6
   "outputs": [
    {
     "data": {
      "text/plain": [
       "255"
      ]
     },
<<<<<<< HEAD
     "execution_count": 53,
=======
     "execution_count": 11,
>>>>>>> cfeae39eb474acebb0bd83823296b43763be33a6
     "metadata": {},
     "output_type": "execute_result"
    }
   ],
   "source": [
<<<<<<< HEAD
    "subprocess.call(\"perl gradews.pl wiki-ja-test.txt my-seg-ng1.unigram\".split())\n"
=======
    "[None]*10"
   ]
  },
  {
   "cell_type": "code",
   "execution_count": 12,
   "metadata": {
    "collapsed": true
   },
   "outputs": [],
   "source": [
    "_=ngram(\"./wiki-ja-train.word\",1)"
>>>>>>> cfeae39eb474acebb0bd83823296b43763be33a6
   ]
  },
  {
   "cell_type": "code",
<<<<<<< HEAD
   "execution_count": 37,
   "metadata": {
    "collapsed": false
   },
=======
   "execution_count": 13,
   "metadata": {},
>>>>>>> cfeae39eb474acebb0bd83823296b43763be33a6
   "outputs": [
    {
     "name": "stdout",
     "output_type": "stream",
     "text": [
<<<<<<< HEAD
      "0\n"
=======
      "校正 （ こ う せい 、 英 ： ｐ ｒ ｏ ｏｆ ｒｅ ａ ｄ ｉｎｇ 、 中 ： 校 対 ） は 、 印刷 物 等 の 字 句 や 内容 、 体 裁 、 色 彩 の 誤り や 不 具 合 を 、 あらかじめ 修 正 する こと 。\n",
      "校 合 （ き ょ う ごう ） と も い う 。\n",
      "出 版 に あ た っ て は 、 印刷 に 先 立 っ て 仮 刷 り を 行 い 、 それ と 原稿 の 内容 を 突 き 合わせ 、 誤 植 や 体 裁 上 の 不 備 を 正 す 。\n",
      "文字 や 数字 ば か り で な く 、 デザイン や 発 色 の 確認 も 行 い 、 特に 発 色 の 確認 を 行 う 校正 を 色 校正 （ 色 校 ） と い う 。\n",
      "かつ て 「 校正 」 の 語 は 古 典 作 品 の 写 本 （ 原文 が 存在 し て い る 場合 は 原文 ） と 別 の 写 本 （ 異 本 ） を 照 合 する 「 校 訂 」 の 意味 で も 使 わ れ た 。\n",
      "また 、 科学 測定 に お い て は 、 物 差 し や 秤 、 温 度 計 、 圧 力 計 など の 計 器 ・ 測定 装置 の 目 盛 と 標準 と な る 計 器 ・ 測定 装置 の 目 盛 と の 差 を 測定 する こと を い う 。\n",
      "この 場合 、 較 正 と 表 記 さ れ る こと が あ る 。\n",
      "また 、 広 義 で は 計 器 ・ 測定 装置 の 目 盛 り を 正し い 数値 に 合わせ る と い う 意味 で 使 わ れ る こと も あ る 。\n",
      "詳 し く は 校正 （ 計 測 ） を 参照 。\n",
      "目次\n",
      "１ 校正 の 概要\n",
      "２ 校正 の 過程\n",
      "３ 出 版 後 の 修 正\n",
      "４ 関連 項目\n",
      "５ 脚注\n",
      "６ 参考 文献\n",
      "校正 の 概要\n",
      "校正 は 、 編集 の 過程 に お い て は 、 出 版 すべ き 原稿 を まとめ た 後 、 書 籍 や 雑誌 など の 印刷 物 の 形 で 商 品 化 する 前 の 最 終 チ ェ ッ ク に あ た る 。\n",
      "大きな 出 版 社 や 新聞 社 で は 校正 を 専門 と する 部 署 が あり 、 そこ に 所 属 する 校正 係 が 社 の 出 版 物 の 校正 を 全 面 的 に 請 け 負 っ て い る 。\n",
      "一方 で 、 中 小 の 出 版 社 など で は 著 者 や 編集 者 自 身 が 校正 者 を 兼 ね て い る こと も あ る 。\n",
      "内 職 と し て 在 宅 校正 者 （ ホ ー ム 校正 ） の 講 座 も 開 かれ て お り 、 派 遣 職 員 や フリー 校正 者 など 業 態 は さまざま で あ る 。\n",
      "校正 の 手 順 は 、 基本 的 に は ま ず 著 者 の 原稿 を 植 字 、 もしくは データ 取 込 し て 試 し 刷 り し た 校正 刷 り （ ゲ ラ 刷 り と も 呼 ぶ 。\n",
      "ゲ ラ ＝ ｇ ａ ｌ ｌ ｅ ｙ と は 活字 を 並べ る 枠 箱 の こと だ が 、 転 じ て 刷 っ た もの 、 さらに 転 じ て 一般 に 修 正 を チ ェ ッ ク すべ き もの を い う よう に な っ た ） の 内容 を 、 原稿 と 突 き 合わせ て 確認 する こと から 始ま る 。\n",
      "ここ で は 、 校正 は あ く まで も 原稿 に 忠 実 に 印刷 さ れ て い る か どう か 確認 する こと を 原 則 と し て い る が 、 時 に は 著 者 の 書き 間違い や 勘 違い に よ る 誤 記 を 正し たり 、 著 者 に 確認 を 求め たり する こと も 必要 と な る （ 原稿 と の 引 き 合わせ を 越 え た 部分 に 関 し て は 「 校 閲 」 と 呼 ば れ る ） 。\n",
      "従 っ て 、 校正 者 に は その 分野 に 対 する 専門 的 な 知識 が 要求 さ れ る こと が 多 い 。\n",
      "校正 作業 に 際 し て は 、 「 校正 記号 」 と 呼 ば れ る 独 特 の 様 式 に 従 っ て 、 ゲ ラ 刷 り に 赤 字 で 注記 を 書き 入れ る と い う の が 一般 的 で あ る 。\n",
      "こ う し た 校正 に よ っ て 判明 し た 誤 植 は 、 印刷 の 原 版 の 修 正 と い う か たち で 反映 さ れ 、 差 し 替 え られ た 刷 り 原稿 が 出 て く る 。\n",
      "そして さらに 校正 が なさ れ 、 慎 重 を 期 する 時 に は 再 校 ・ 三 校 以上 が 重 ね られ る 。\n",
      "校正 を 終 え て これ から 出 版 に かか る こと を 、 「 校 了 」 と 言 う 。\n",
      "校 了 前 に は 必要 に 応 じ て 著 者 自 身 に よ る 「 著 者 校 」 も なさ れ 、 出 版 に あ た っ て は 誤 植 や その 他 の 誤り を 追 放 する 努 力 が 重 ね られ て い る 。\n",
      "しかし ながら 、 ど ん な に 綿 密 に 校正 を 行 っ て も 、 しばしば 誤 植 を 見 落と し た まま 出 版 さ れ る こと が あり 、 出 版 関係 者 を 切 歯 扼 腕 さ せ て い る 。\n",
      "校正 を 少 し で も 怠 る と 出 版 物 に 数 多く の 誤 植 が 発生 する の で 、 古く から 「 校正 畏 る べ し 」 の 警 句 が 語 られ て い る 。\n",
      "この 語 は 論 語 の 「 後 生 畏 る べ し 」 を も じ っ た もの だ が 、 一 説 に は 、 明 治 時 代 の 劇 作 家 福 地 桜 痴 の 述 懐 が 初 出 だ と い う 。\n",
      "その 福 地 が 東 京 日 日 新聞 の 主 筆 で あ っ た 頃 、 自 分 の 俸 給 を 削 っ て まで 招 聘 し た 校正 主 任 は 市 川 清 流 と い う 国 学 者 ・ 漢 学 者 で あり 、 清 流 が 在 社 し て い る 間 は 「 校正 の 宜 し き を 得 た 」 と 福 地 は 満 足 し た 。\n",
      "校正 の 過程\n",
      "以下 に 、 出 版 に お い て 行 わ れ る 一般 的 な 校正 の 過程 を 述べ る 。\n",
      "初 校 ー 版 下 を 作成 する 印刷 の 場合 に は 版 下 の コ ピ ー 、 Ｄ Ｔ Ｐ の 場合 に は プリンター 出力 、 活 版 の 場合 に は 活字 を 組 み 上げ て 刷 っ た 試 し 刷 り （ ゲ ラ 刷 り ） を 原稿 と つ き あ わ せ る 。\n",
      "また 、 つ き あ わ せ の 後 で 素 読 み （ ゲ ラ の ほう だけ を 読 ん で 不 具 合 を 感 じ な い か チ ェ ッ ク する ） を 行 う 。\n",
      "レイ ア ウ ト 、 デザイン の チ ェ ッ ク も ここ で 行 う 。\n",
      "再 校 ー 初 校 の 修 正 を 行 っ た ゲ ラ （ 再 校 紙 ） と 初 校 と を つ き あ わ せ て 、 初 校 の 修 正 が 確 実 に 行 わ れ て い る か を チ ェ ッ ク する 。\n",
      "三 校 ー 三 校 紙 を 再 校 紙 と つ き あ わ せ る 。\n",
      "回 数 は これ 以上 に 及 ぶ こと も あり 、 四 校 、 五 校 … と 続 く 。\n",
      "この 過程 は 特に 慎 重 を 要 する 場合 に 行 わ れ る 。\n",
      "著 者 校 ー 一 通り 校正 し 終 わ っ た 後 の 刷 り 原稿 を 、 著 者 自 身 が 確認 する 過程 。\n",
      "著 者 が 意図 し た 表現 が 意 に 沿 わ ぬ 修 正 を さ れ て い た 場合 、 表現 を 復元 する こと も あ る 。\n",
      "バ ル ザ ッ ク は しばしば この 段階 で 多 大 な 変更 を 行 い 、 十 校 以上 に も 及 ぶ こと が あ っ た ため 、 植 字 工 ・ 校正 者 泣 か せ で あ っ た 。\n",
      "編集 の 日 程 や 校正 の 進 行 に より 、 １ 回 から 数 回 行 わ れ る 。\n",
      "青 焼 き 、 清 刷 、 色 校 ー フ ィ ル ム 製 版 を する 場合 に 、 製 版 し た あ と の 状態 を チ ェ ッ ク する 。\n",
      "黒 １ 色 刷 り の 場合 に は 、 フ ィ ル ム の 青 写 真 （ 青 焼 き ） を 取 っ て 、 これ を 再 校 紙 や 三 校 紙 と つ き あ わ せ 、 また 網 掛 け など の 製 版 指示 が 指示 通り に 行 わ れ て い る か どう か を 確認 する 。\n",
      "その ほか の 場合 に は 、 清 刷 と 呼 ば れ る 、 フ ィ ル ム から 直接 印刷 する こと は 印刷 の 原理 上 でき な い の で 、 感 光 剤 を 塗 布 さ れ た ア ル ミ 板 （ Ｐ Ｓ 版 ） に 画像 を 密 着 転 写 し 、 後 に 実 作業 を 行 う 予 定 の 印刷 機 に よ る 試 し 刷 り （ 本 機 校正 ） を 行 い 、 ここ で 色 合い を 含め て チ ェ ッ ク する 。\n",
      "通常 は 色 校正 の 段階 で は そこ まで する こと は な く 、 Ｐ Ｓ 版 を 使用 する こと は 本 機 校正 と 同じ で も 、 機械 構造 を 簡 略 化 ・ 変換 し た コ ロ タイプ 式 の 校正 用 印刷 機 で 色 校正 刷 り や 色 校正 紙 は 作成 さ れ る が 、 上記 文字 組 校正 同様 に 初 校 ・ 再 校 ・ 三 校 … と 続 く 場合 も あ る 。\n",
      "なお 、 印刷 工 程 を 経 ず に 写 真 技術 を 応用 ・ 利用 し た 色 校正 術 も 利用 さ れ る 。\n",
      "校 了 ー 校 了 と は 、 校正 完 了 の 意味 で あ る 。\n",
      "校正 の 責 任 者 が 、 最 終 チ ェ ッ ク を 行 っ て 、 そこ に 誤り が な い こと を 確認 し た 、 と い う 意味 で あ る 。\n",
      "なお 、 「 責 了 」 と は 責 任 校 了 の 意味 で 、 校正 責 任 者 が 誤り を 発 見 したが 、 指示 し た 修 正 が 修 正 者 の 責 任 に よ っ て 修 正 さ れ る の を 条件 に 、 「 校 了 」 と する 、 と い う 意味 で あ る 。\n",
      "印刷 現 場 に おけ る 修 正 ー 緊 急 の 場合 に 、 印刷 現 場 で 修 正 を 行 う こと が あ る 。\n",
      "これ は 文字 など を 削 る こと しか でき な い の で 体 裁 が 悪 く な り がち だ が 、 それ で も 印刷 さ れ る より い い 、 と い う 場合 に この 処 置 が と られ る 。\n",
      "新聞 記事 で 稀 に 何 字 分か 空白 部分 が あ る の は 、 これ で あ ろ う 。\n",
      "出 版 後 の 修 正\n",
      "出 版 物 に は 誤り が な い こと が 望 ま し い が 、 実際 に は な かな か 完 璧 に 校正 を 行 う こと は でき な い 。\n",
      "また 、 時 を 経 て 状況 が 変化 する 場合 も あ る 。\n",
      "この よう な 後 から 発 覚 し た 誤り や 変化 は 、 緊 急 を 要 する 場合 に は 、 正 誤 表 を 折 り 込 む など の 対 策 が 取 られ る 。\n",
      "新聞 で は 、 「 訂正 」 欄 を 設 け て 誤り を 正し て い る 。\n",
      "一般 的 に は 、 増 刷 （ 増 版 ） を 行 う 時 点 で 修 正 を 行 う 。\n",
      "一般 に 増 刷 を する ごと に １ 刷 、 ２ 刷 と 呼 ば れ 、 大きな 改 訂 を 伴 う 増 刷 の 場合 に は １ 版 、 ２ 版 と 呼 ば れ る 。\n",
      "当然 ながら 、 初 版 本 （ １ 版 １ 刷 の 本 ） に は あ と の 版 に 比べ て 多く の 誤り を 含 む こと に な る が 、 この こと が 逆 に 初 版 本 を コ レ ク シ ョ ン の 対象 と し て い る の で あ る 。\n",
      "かな 漢字 変換 （ かな か ん じ へ ん か ん ） は 、 情報 機器 に 備え 付け られ る 日本 語 入力 システム の 分類 の 一 つ 。\n",
      "目次\n",
      "１ かな 漢字 変換 の 仕組み\n",
      "２ かな 漢字 変換 の ソフトウェア\n",
      "２ ． １ パ ー ソ ナ ル コンピュータ 用\n",
      "２ ． １ ． １ 市販 の もの\n",
      "２ ． １ ． １ ． １ 現 行 品\n",
      "２ ． １ ． １ ． ２ 販売 終 了 品\n",
      "２ ． １ ． ２ フリー ソフトウェア （ オープン ソース ） の もの\n",
      "２ ． ２ 組み込 み 機器 、 携帯 電話 向け\n",
      "２ ． ３ その 他\n",
      "３ 関連 項目\n",
      "かな 漢字 変換 の 仕組み\n",
      "典型 的 な かな 漢字 変換 は 、 次 の よう に 働 く 。\n",
      "ま ず 、 ユーザー が 入力 し た い 文章 （ 単 漢字 、 単語 、 文節 ） の 読 み を 入力 装置 （ パソコン の キーボード 、 携帯 電話 の ボタン 、 ゲーム 機 の コ ン ト ロ ー ラ ー 、 映像 関連 機器 の リ モ コ ン 等 ） から 入力 する 。\n",
      "キーボード を 用い る 場合 の 読 み の 入力 方式 に は 、 かな 入力 と ロ ー マ 字 入力 と が あ る 。\n",
      "かな 漢字 変換 システム は 読 み を 受け 取 り 、 形態 素 解析 など の 文法 解析 システム 、 および 、 読みと 漢字 と の 変換 対応 表 （ いわゆる 辞書 ） を 用い て 、 漢字 仮 名 交 じ り 文 に 変換 し 出力 する 。\n",
      "Ｓ Ｋ Ｋ の よう に 、 辞書 だけ を 用い て 変換 する システム も あ る 。\n"
>>>>>>> cfeae39eb474acebb0bd83823296b43763be33a6
     ]
    }
   ],
   "source": [
    "print(score)"
   ]
  },
  {
   "cell_type": "code",
   "execution_count": null,
   "metadata": {
    "collapsed": true
   },
   "outputs": [],
   "source": []
  }
 ],
 "metadata": {
  "kernelspec": {
   "display_name": "Python 3",
   "language": "python",
   "name": "python3"
  },
  "language_info": {
   "codemirror_mode": {
    "name": "ipython",
    "version": 3
   },
   "file_extension": ".py",
   "mimetype": "text/x-python",
   "name": "python",
   "nbconvert_exporter": "python",
   "pygments_lexer": "ipython3",
   "version": "3.6.0"
  }
 },
 "nbformat": 4,
 "nbformat_minor": 2
}
