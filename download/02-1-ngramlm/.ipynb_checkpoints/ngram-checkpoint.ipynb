{
 "cells": [
  {
   "cell_type": "code",
   "execution_count": 11,
   "metadata": {
    "collapsed": true
   },
   "outputs": [],
   "source": [
    "import sys,math,pprint, subprocess\n",
    "from collections import defaultdict\n"
   ]
  },
  {
   "cell_type": "code",
   "execution_count": 45,
   "metadata": {
    "collapsed": false
   },
   "outputs": [],
   "source": [
    "class ngram:\n",
    "    def __init__(self, f_name, n=1):\n",
    "        self.n = n\n",
    "        self.frq_dict = {}\n",
    "        self.vocab_size_dict = defaultdict(lambda: 0)\n",
    "\n",
    "        for i in range(self.n):\n",
    "            self.frq_dict[str(i + 1)] = defaultdict(lambda: 0)\n",
    "\n",
    "        for line in open(f_name, \"r\", encoding=\"UTF-8\"):\n",
    "            line = line.split()\n",
    "            line.append(\"</s>\")\n",
    "            line.insert(0, \"<s>\")\n",
    "            for i in range(self.n):\n",
    "                _line_tp = self.line_tp(line, i + 1)\n",
    "                for j in _line_tp:\n",
    "                    self.frq_dict[str(i + 1)][\" \".join(j)] += 1\n",
    "\n",
    "        for i in range(self.n):\n",
    "            for w in self.frq_dict[str(i + 1)]:\n",
    "                self.vocab_size_dict[str(i + 1)] += self.frq_dict[str(i + 1)][\n",
    "                    w]\n",
    "\n",
    "    def line_tp(self, line, n):\n",
    "        _tp_list = []\n",
    "        len_line = len(line)\n",
    "        for i in range(n):\n",
    "            _tp_list.append(line[i:len_line - n + i + 1])\n",
    "        return list(zip(*_tp_list))\n",
    "\n",
    "    def calc_ngram_P(self, ngram_str):\n",
    "        n = len(ngram_str.split())\n",
    "        ngram_str_m1 = \" \".join(ngram_str.split()[:-1])\n",
    "        if n == 1:\n",
    "            lambda_ = 0.95\n",
    "            vocab_size = 1000000\n",
    "            P = self.frq_dict[str(n)][ngram_str] / float(self.vocab_size_dict[\n",
    "                str(n)])\n",
    "            return lambda_ * P + (1 - lambda_) / vocab_size\n",
    "        else:\n",
    "            lambda_n_m1 = self.calc_lambda_n_m1(ngram_str)\n",
    "            try:\n",
    "                P = self.frq_dict[str(n)][ngram_str] / float(self.frq_dict[str(\n",
    "                    n)][ngram_str_m1])\n",
    "            except ZeroDivisionError:\n",
    "                P = 0\n",
    "            return lambda_n_m1 * P + (\n",
    "                1 - lambda_n_m1) * self.calc_ngram_P(ngram_str.split()[-1])\n",
    "\n",
    "    def calc_lambda_n_m1(self, ngram_str):\n",
    "\n",
    "        n = len(ngram_str.split())\n",
    "        try:\n",
    "            c_w_m1_freq = self.frq_dict[str(n)][ngram_str]\n",
    "        except KeyError:\n",
    "            print(ngram_str)\n",
    "            input()\n",
    "        ngram_str_m1 = \" \".join(ngram_str.split()[:-1])\n",
    "\n",
    "        u_w_m1_count = len(\n",
    "            set([\n",
    "                u for u in self.frq_dict[str(n)]\n",
    "                if u.split()[:-1] == ngram_str.split()[:-1]\n",
    "            ]))\n",
    "        return 1 - u_w_m1_count / float(u_w_m1_count + c_w_m1_freq)\n",
    "\n",
    "    def word_seg_viterbi(self, line, n_gram_model=1):\n",
    "        line = line.replace(\"\\n\", \"\")\n",
    "        len_line = len(line)\n",
    "        best_edge = [None] * (len_line + 1)\n",
    "        best_score = [0] * (len_line + 1)\n",
    "        ng_list = list(self.frq_dict[str(n_gram_model)].keys())\n",
    "\n",
    "        for w_end in range(1, len_line + 1):\n",
    "            best_score[w_end] = 10000000000\n",
    "            for w_begin in range(0, w_end):\n",
    "                if n_gram_model==1:\n",
    "                    word = line[w_begin:w_end]\n",
    "                else:\n",
    "                    word = \" \".join(line[w_begin:w_end])\n",
    "                if (word in ng_list or len(word) == 1) and word:\n",
    "                    P_log_ng = -math.log(self.calc_ngram_P(word))\n",
    "                    score_ = best_score[w_begin] + P_log_ng\n",
    "                    if score_ < best_score[w_end]:\n",
    "                        best_score[w_end] = score_\n",
    "                        best_edge[w_end] = (w_begin, w_end)\n",
    "        words = []\n",
    "        next_edge = best_edge[len(best_edge) - 1]\n",
    "        while next_edge:\n",
    "            word = line[next_edge[0]:next_edge[1]]\n",
    "            words.append(word)\n",
    "            next_edge = best_edge[next_edge[0]]\n",
    "        words.reverse()\n",
    "        return words\n",
    "\n",
    "    def word_seg_viterbi_file(self, f_name, n_gram_model=1):\n",
    "        __ = []\n",
    "        for line in open(f_name, \"r\", encoding=\"UTF-8\"):\n",
    "            _ = self.word_seg_viterbi(line.replace(\"　\", \"\"),n_gram_model)\n",
    "            __.append(\" \".join(_) + \"\\n\")\n",
    "        return __"
   ]
  },
  {
   "cell_type": "code",
   "execution_count": 51,
   "metadata": {
    "collapsed": true
   },
   "outputs": [],
   "source": [
    "_=ngram(\"./wiki-ja-test.unigram\",4)"
   ]
  },
  {
   "cell_type": "code",
   "execution_count": 52,
   "metadata": {
    "collapsed": false
   },
   "outputs": [],
   "source": [
    "for i in range(1,5):\n",
    "    with open(\"my-seg-ng\"+str(i)+\".unigram\",\"w\",encoding=\"UTF-8\") as f:\n",
    "        f.writelines(_.word_seg_viterbi_file(\"./wiki-ja-test.txt\", n_gram_model=i))"
   ]
  },
  {
   "cell_type": "code",
   "execution_count": 53,
   "metadata": {
    "collapsed": false
   },
   "outputs": [
    {
     "data": {
      "text/plain": [
       "255"
      ]
     },
     "execution_count": 53,
     "metadata": {},
     "output_type": "execute_result"
    }
   ],
   "source": [
    "subprocess.call(\"perl gradews.pl wiki-ja-test.txt my-seg-ng1.unigram\".split())\n"
   ]
  },
  {
   "cell_type": "code",
   "execution_count": 37,
   "metadata": {
    "collapsed": false
   },
   "outputs": [
    {
     "name": "stdout",
     "output_type": "stream",
     "text": [
      "0\n"
     ]
    }
   ],
   "source": [
    "print(score)"
   ]
  },
  {
   "cell_type": "code",
   "execution_count": null,
   "metadata": {
    "collapsed": true
   },
   "outputs": [],
   "source": []
  }
 ],
 "metadata": {
  "kernelspec": {
   "display_name": "Python 3",
   "language": "python",
   "name": "python3"
  },
  "language_info": {
   "codemirror_mode": {
    "name": "ipython",
    "version": 3
   },
   "file_extension": ".py",
   "mimetype": "text/x-python",
   "name": "python",
   "nbconvert_exporter": "python",
   "pygments_lexer": "ipython3",
   "version": "3.6.0"
  }
 },
 "nbformat": 4,
 "nbformat_minor": 2
}
