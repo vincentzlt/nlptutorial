{
 "cells": [
  {
   "cell_type": "code",
   "execution_count": 11,
   "metadata": {
    "collapsed": true
   },
   "outputs": [],
   "source": [
    "import sys,math,pprint\n",
    "from collections import defaultdict\n"
   ]
  },
  {
   "cell_type": "code",
   "execution_count": 29,
   "metadata": {
    "collapsed": false
   },
   "outputs": [],
   "source": [
    "class ngram:\n",
    "    def __init__(self,  f_name,n=1):\n",
    "        self.n=n\n",
    "        self.frq_dict={}\n",
    "        self.vocab_size_dict=defaultdict(lambda:0)\n",
    "        \n",
    "        for i in range(self.n):\n",
    "            self.frq_dict[str(i+1)]=defaultdict(lambda:0)\n",
    "        \n",
    "        for line in open(f_name,\"r\",encoding=\"UTF-8\"):\n",
    "            line=line.split()\n",
    "            line.append(\"</s>\")\n",
    "            line.insert(0,\"<s>\")\n",
    "            for i in range(self.n):\n",
    "                _line_tp=self.line_tp(line,i+1)\n",
    "                for j in _line_tp:\n",
    "                    self.frq_dict[str(i+1)][\" \".join(j)]+=1\n",
    "        \n",
    "        for i in range(self.n):\n",
    "            for w in self.frq_dict[str(i+1)]:\n",
    "                self.vocab_size_dict[str(i+1)]+=self.frq_dict[str(i+1)][w]\n",
    "    \n",
    "    def line_tp(self,line,n):\n",
    "        _tp_list=[]\n",
    "        len_line=len(line)\n",
    "        for i in range(n):\n",
    "            _tp_list.append(line[i:len_line-n+i+1])\n",
    "        return list(zip(*_tp_list))\n",
    "    \n",
    "    def calc_ngram_P(self,ngram_str,n=1):\n",
    "        if n==1:\n",
    "            return self.frq_dict[str(n)][ngram_str]/float(self.vocab_size_dict[str(n)])\n",
    "        \n",
    "            "
   ]
  },
  {
   "cell_type": "code",
   "execution_count": 30,
   "metadata": {
    "collapsed": false
   },
   "outputs": [],
   "source": [
    "_=ngram(\"./wiki-en-train.word\",3)"
   ]
  },
  {
   "cell_type": "code",
   "execution_count": 34,
   "metadata": {
    "collapsed": false
   },
   "outputs": [
    {
     "name": "stdout",
     "output_type": "stream",
     "text": [
      "5.384594674635867e-05\n"
     ]
    }
   ],
   "source": [
    "pprint.pprint(_.calc_ngram_P(\"big\",1))"
   ]
  },
  {
   "cell_type": "code",
   "execution_count": null,
   "metadata": {
    "collapsed": true
   },
   "outputs": [],
   "source": []
  }
 ],
 "metadata": {
  "kernelspec": {
   "display_name": "Python 3",
   "language": "python",
   "name": "python3"
  },
  "language_info": {
   "codemirror_mode": {
    "name": "ipython",
    "version": 3
   },
   "file_extension": ".py",
   "mimetype": "text/x-python",
   "name": "python",
   "nbconvert_exporter": "python",
   "pygments_lexer": "ipython3",
   "version": "3.6.0"
  }
 },
 "nbformat": 4,
 "nbformat_minor": 2
}
